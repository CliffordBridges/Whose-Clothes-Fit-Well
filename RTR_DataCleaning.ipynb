{
 "cells": [
  {
   "cell_type": "markdown",
   "metadata": {},
   "source": [
    "# RTR Data Cleaning \\& Feature Engineering Notebook"
   ]
  },
  {
   "cell_type": "code",
   "execution_count": 1,
   "metadata": {},
   "outputs": [],
   "source": [
    "import numpy as np\n",
    "import pandas as pd"
   ]
  },
  {
   "cell_type": "code",
   "execution_count": 2,
   "metadata": {},
   "outputs": [],
   "source": [
    "rtr_data = pd.read_json('rent_the_runway_data.zip', lines=True)"
   ]
  },
  {
   "cell_type": "code",
   "execution_count": 3,
   "metadata": {},
   "outputs": [
    {
     "data": {
      "text/html": [
       "<div>\n",
       "<style scoped>\n",
       "    .dataframe tbody tr th:only-of-type {\n",
       "        vertical-align: middle;\n",
       "    }\n",
       "\n",
       "    .dataframe tbody tr th {\n",
       "        vertical-align: top;\n",
       "    }\n",
       "\n",
       "    .dataframe thead th {\n",
       "        text-align: right;\n",
       "    }\n",
       "</style>\n",
       "<table border=\"1\" class=\"dataframe\">\n",
       "  <thead>\n",
       "    <tr style=\"text-align: right;\">\n",
       "      <th></th>\n",
       "      <th>age</th>\n",
       "      <th>body type</th>\n",
       "      <th>bust size</th>\n",
       "      <th>category</th>\n",
       "      <th>fit</th>\n",
       "      <th>height</th>\n",
       "      <th>item_id</th>\n",
       "      <th>rating</th>\n",
       "      <th>rented for</th>\n",
       "      <th>review_date</th>\n",
       "      <th>review_summary</th>\n",
       "      <th>review_text</th>\n",
       "      <th>size</th>\n",
       "      <th>user_id</th>\n",
       "      <th>weight</th>\n",
       "    </tr>\n",
       "  </thead>\n",
       "  <tbody>\n",
       "    <tr>\n",
       "      <th>0</th>\n",
       "      <td>28.0</td>\n",
       "      <td>hourglass</td>\n",
       "      <td>34d</td>\n",
       "      <td>romper</td>\n",
       "      <td>fit</td>\n",
       "      <td>5' 8\"</td>\n",
       "      <td>2260466</td>\n",
       "      <td>10.0</td>\n",
       "      <td>vacation</td>\n",
       "      <td>April 20, 2016</td>\n",
       "      <td>So many compliments!</td>\n",
       "      <td>An adorable romper! Belt and zipper were a lit...</td>\n",
       "      <td>14</td>\n",
       "      <td>420272</td>\n",
       "      <td>137lbs</td>\n",
       "    </tr>\n",
       "    <tr>\n",
       "      <th>1</th>\n",
       "      <td>36.0</td>\n",
       "      <td>straight &amp; narrow</td>\n",
       "      <td>34b</td>\n",
       "      <td>gown</td>\n",
       "      <td>fit</td>\n",
       "      <td>5' 6\"</td>\n",
       "      <td>153475</td>\n",
       "      <td>10.0</td>\n",
       "      <td>other</td>\n",
       "      <td>June 18, 2013</td>\n",
       "      <td>I felt so glamourous!!!</td>\n",
       "      <td>I rented this dress for a photo shoot. The the...</td>\n",
       "      <td>12</td>\n",
       "      <td>273551</td>\n",
       "      <td>132lbs</td>\n",
       "    </tr>\n",
       "    <tr>\n",
       "      <th>2</th>\n",
       "      <td>116.0</td>\n",
       "      <td>NaN</td>\n",
       "      <td>NaN</td>\n",
       "      <td>sheath</td>\n",
       "      <td>fit</td>\n",
       "      <td>5' 4\"</td>\n",
       "      <td>1063761</td>\n",
       "      <td>10.0</td>\n",
       "      <td>party</td>\n",
       "      <td>December 14, 2015</td>\n",
       "      <td>It was a great time to celebrate the (almost) ...</td>\n",
       "      <td>This hugged in all the right places! It was a ...</td>\n",
       "      <td>4</td>\n",
       "      <td>360448</td>\n",
       "      <td>NaN</td>\n",
       "    </tr>\n",
       "    <tr>\n",
       "      <th>3</th>\n",
       "      <td>34.0</td>\n",
       "      <td>pear</td>\n",
       "      <td>34c</td>\n",
       "      <td>dress</td>\n",
       "      <td>fit</td>\n",
       "      <td>5' 5\"</td>\n",
       "      <td>126335</td>\n",
       "      <td>8.0</td>\n",
       "      <td>formal affair</td>\n",
       "      <td>February 12, 2014</td>\n",
       "      <td>Dress arrived on time and in perfect condition.</td>\n",
       "      <td>I rented this for my company's black tie award...</td>\n",
       "      <td>8</td>\n",
       "      <td>909926</td>\n",
       "      <td>135lbs</td>\n",
       "    </tr>\n",
       "    <tr>\n",
       "      <th>4</th>\n",
       "      <td>27.0</td>\n",
       "      <td>athletic</td>\n",
       "      <td>34b</td>\n",
       "      <td>gown</td>\n",
       "      <td>fit</td>\n",
       "      <td>5' 9\"</td>\n",
       "      <td>616682</td>\n",
       "      <td>10.0</td>\n",
       "      <td>wedding</td>\n",
       "      <td>September 26, 2016</td>\n",
       "      <td>Was in love with this dress !!!</td>\n",
       "      <td>I have always been petite in my upper body and...</td>\n",
       "      <td>12</td>\n",
       "      <td>151944</td>\n",
       "      <td>145lbs</td>\n",
       "    </tr>\n",
       "  </tbody>\n",
       "</table>\n",
       "</div>"
      ],
      "text/plain": [
       "     age          body type bust size category  fit height  item_id  rating  \\\n",
       "0   28.0          hourglass       34d   romper  fit  5' 8\"  2260466    10.0   \n",
       "1   36.0  straight & narrow       34b     gown  fit  5' 6\"   153475    10.0   \n",
       "2  116.0                NaN       NaN   sheath  fit  5' 4\"  1063761    10.0   \n",
       "3   34.0               pear       34c    dress  fit  5' 5\"   126335     8.0   \n",
       "4   27.0           athletic       34b     gown  fit  5' 9\"   616682    10.0   \n",
       "\n",
       "      rented for         review_date  \\\n",
       "0       vacation      April 20, 2016   \n",
       "1          other       June 18, 2013   \n",
       "2          party   December 14, 2015   \n",
       "3  formal affair   February 12, 2014   \n",
       "4        wedding  September 26, 2016   \n",
       "\n",
       "                                      review_summary  \\\n",
       "0                               So many compliments!   \n",
       "1                            I felt so glamourous!!!   \n",
       "2  It was a great time to celebrate the (almost) ...   \n",
       "3   Dress arrived on time and in perfect condition.    \n",
       "4                    Was in love with this dress !!!   \n",
       "\n",
       "                                         review_text  size  user_id  weight  \n",
       "0  An adorable romper! Belt and zipper were a lit...    14   420272  137lbs  \n",
       "1  I rented this dress for a photo shoot. The the...    12   273551  132lbs  \n",
       "2  This hugged in all the right places! It was a ...     4   360448     NaN  \n",
       "3  I rented this for my company's black tie award...     8   909926  135lbs  \n",
       "4  I have always been petite in my upper body and...    12   151944  145lbs  "
      ]
     },
     "execution_count": 3,
     "metadata": {},
     "output_type": "execute_result"
    }
   ],
   "source": [
    "rtr_data.head()"
   ]
  },
  {
   "cell_type": "code",
   "execution_count": 4,
   "metadata": {},
   "outputs": [
    {
     "name": "stdout",
     "output_type": "stream",
     "text": [
      "<class 'pandas.core.frame.DataFrame'>\n",
      "RangeIndex: 192544 entries, 0 to 192543\n",
      "Data columns (total 15 columns):\n",
      "age               191584 non-null float64\n",
      "body type         177907 non-null object\n",
      "bust size         174133 non-null object\n",
      "category          192544 non-null object\n",
      "fit               192544 non-null object\n",
      "height            191867 non-null object\n",
      "item_id           192544 non-null int64\n",
      "rating            192462 non-null float64\n",
      "rented for        192534 non-null object\n",
      "review_date       192544 non-null object\n",
      "review_summary    192544 non-null object\n",
      "review_text       192544 non-null object\n",
      "size              192544 non-null int64\n",
      "user_id           192544 non-null int64\n",
      "weight            162562 non-null object\n",
      "dtypes: float64(2), int64(3), object(10)\n",
      "memory usage: 22.0+ MB\n"
     ]
    }
   ],
   "source": [
    "rtr_data.info()"
   ]
  },
  {
   "cell_type": "markdown",
   "metadata": {},
   "source": [
    "### Next Steps for Rent The Runway:\n",
    "1. change column name spaces to underscores\n",
    "2. convert ```review_date``` to datetime\n",
    "3. determine if ```rented_for``` is a categorical\n",
    "4. determine if ```body_type``` is categorical\n",
    "5. determine if ```fit``` is categorical\n",
    "6. convert ```weight``` to pounds as an int64\n",
    "7. find size chart data on RTR and add that to each user\n",
    "8. Change ```bust_size``` to ```band_size``` and ```cup_size``` and make ```band_size``` an int\n",
    "9. look for ```item_id``` on RTR site _is not on site_\n",
    "10. convert ```height``` to inches as an int"
   ]
  },
  {
   "cell_type": "code",
   "execution_count": 5,
   "metadata": {},
   "outputs": [],
   "source": [
    "rtr_dress_sizes = [0, 2, 4, 6, 8, 10, 12, 14, 16, 18, 20, 22, 24, '24+']"
   ]
  },
  {
   "cell_type": "code",
   "execution_count": 6,
   "metadata": {},
   "outputs": [],
   "source": [
    "rtr_body_types = ['apple', 'athletic', 'full bust', 'hour glass', 'pair', 'petite', 'straight & narrow']"
   ]
  },
  {
   "cell_type": "code",
   "execution_count": 7,
   "metadata": {},
   "outputs": [],
   "source": [
    "rtr_jean_sizes = list(range(24, 41))"
   ]
  },
  {
   "cell_type": "code",
   "execution_count": 8,
   "metadata": {},
   "outputs": [],
   "source": [
    "bust_sizes = list(range(28, 50, 2))\n",
    "cup_sizes = ['aa', 'a', 'b', 'c', 'd', 'dd', 'ddd/e', 'f', 'g', 'h', 'i', 'j']\n",
    "rtr_bust_sizes = [str(bust)+cup for bust in bust_sizes for cup in cup_sizes]"
   ]
  },
  {
   "cell_type": "code",
   "execution_count": 9,
   "metadata": {},
   "outputs": [],
   "source": [
    "rtr_data = rtr_data.rename(columns={'body type':'body_type', 'bust size':'bust_size', 'rented for':'rented_for'})"
   ]
  },
  {
   "cell_type": "code",
   "execution_count": 10,
   "metadata": {},
   "outputs": [
    {
     "data": {
      "text/plain": [
       "Index(['age', 'body_type', 'bust_size', 'category', 'fit', 'height', 'item_id',\n",
       "       'rating', 'rented_for', 'review_date', 'review_summary', 'review_text',\n",
       "       'size', 'user_id', 'weight'],\n",
       "      dtype='object')"
      ]
     },
     "execution_count": 10,
     "metadata": {},
     "output_type": "execute_result"
    }
   ],
   "source": [
    "rtr_data.columns"
   ]
  },
  {
   "cell_type": "code",
   "execution_count": 11,
   "metadata": {},
   "outputs": [],
   "source": [
    "rtr_data['review_datetime'] = pd.to_datetime(rtr_data.review_date)"
   ]
  },
  {
   "cell_type": "code",
   "execution_count": 12,
   "metadata": {},
   "outputs": [
    {
     "data": {
      "text/plain": [
       "array(['vacation', 'other', 'party', 'formal affair', 'wedding', 'date',\n",
       "       'everyday', 'work', nan, 'party: cocktail'], dtype=object)"
      ]
     },
     "execution_count": 12,
     "metadata": {},
     "output_type": "execute_result"
    }
   ],
   "source": [
    "rtr_data.rented_for.unique()"
   ]
  },
  {
   "cell_type": "code",
   "execution_count": 13,
   "metadata": {},
   "outputs": [
    {
     "data": {
      "text/plain": [
       "array(['hourglass', 'straight & narrow', nan, 'pear', 'athletic',\n",
       "       'full bust', 'petite', 'apple'], dtype=object)"
      ]
     },
     "execution_count": 13,
     "metadata": {},
     "output_type": "execute_result"
    }
   ],
   "source": [
    "rtr_data.body_type.unique()"
   ]
  },
  {
   "cell_type": "code",
   "execution_count": 14,
   "metadata": {},
   "outputs": [
    {
     "data": {
      "text/plain": [
       "array(['fit', 'small', 'large'], dtype=object)"
      ]
     },
     "execution_count": 14,
     "metadata": {},
     "output_type": "execute_result"
    }
   ],
   "source": [
    "rtr_data.fit.unique()"
   ]
  },
  {
   "cell_type": "code",
   "execution_count": 15,
   "metadata": {},
   "outputs": [],
   "source": [
    "def convert_lbs_to_int(pounds):\n",
    "    if type(pounds) == str:\n",
    "        if pounds.endswith('lbs'):\n",
    "            return int(pounds[:-3])\n",
    "    elif np.isnan(pounds):\n",
    "        return"
   ]
  },
  {
   "cell_type": "code",
   "execution_count": 16,
   "metadata": {},
   "outputs": [],
   "source": [
    "rtr_data.weight = rtr_data.weight.apply(convert_lbs_to_int)"
   ]
  },
  {
   "cell_type": "code",
   "execution_count": 17,
   "metadata": {},
   "outputs": [],
   "source": [
    "def separate_band_and_cup(bust_size):\n",
    "    if type(bust_size) == str:\n",
    "#         return int(bust_size[:2]), bust_size[2:]\n",
    "        return bust_size[:2]+','+bust_size[2:]\n",
    "    elif np.isnan(bust_size):\n",
    "        return np.NaN, np.NaN"
   ]
  },
  {
   "cell_type": "code",
   "execution_count": 18,
   "metadata": {
    "scrolled": true
   },
   "outputs": [
    {
     "data": {
      "text/plain": [
       "'34,d'"
      ]
     },
     "execution_count": 18,
     "metadata": {},
     "output_type": "execute_result"
    }
   ],
   "source": [
    "# rtr_data['band'], rtr_data['cup'] = \n",
    "rtr_data.bust_size.apply(separate_band_and_cup)[0]"
   ]
  },
  {
   "cell_type": "code",
   "execution_count": 19,
   "metadata": {},
   "outputs": [
    {
     "data": {
      "text/plain": [
       "Index(['age', 'body_type', 'bust_size', 'category', 'fit', 'height', 'item_id',\n",
       "       'rating', 'rented_for', 'review_date', 'review_summary', 'review_text',\n",
       "       'size', 'user_id', 'weight', 'review_datetime'],\n",
       "      dtype='object')"
      ]
     },
     "execution_count": 19,
     "metadata": {},
     "output_type": "execute_result"
    }
   ],
   "source": [
    "rtr_data.columns"
   ]
  },
  {
   "cell_type": "code",
   "execution_count": 21,
   "metadata": {},
   "outputs": [],
   "source": [
    "bust_cup = rtr_data.bust_size.apply(separate_band_and_cup).str.split(',', n=2, expand=True)\n",
    "bust_cup.columns = ['band_size', 'cup_size']"
   ]
  },
  {
   "cell_type": "code",
   "execution_count": 22,
   "metadata": {},
   "outputs": [],
   "source": [
    "rtr_data = pd.concat([rtr_data, bust_cup], axis=1)"
   ]
  },
  {
   "cell_type": "code",
   "execution_count": 23,
   "metadata": {},
   "outputs": [],
   "source": [
    "def convert_to_int(band):\n",
    "    if type(band)==str:\n",
    "        return int(band)\n",
    "    elif band==np.NaN:\n",
    "        pass"
   ]
  },
  {
   "cell_type": "code",
   "execution_count": 24,
   "metadata": {},
   "outputs": [],
   "source": [
    "rtr_data.band_size = rtr_data.band_size.apply(convert_to_int)"
   ]
  },
  {
   "cell_type": "code",
   "execution_count": 26,
   "metadata": {},
   "outputs": [],
   "source": [
    "def convert_feetinches_to_inches(distance):\n",
    "    if type(distance) == str:\n",
    "        inches = 0\n",
    "        for i, ft in enumerate(distance):\n",
    "            if ft=='f' or ft=='\\'':\n",
    "                inches += 12*int(distance[:i])\n",
    "            if ft=='i' or ft=='\\\"':\n",
    "                inches += int(distance[i-2:i].strip())\n",
    "        return inches\n",
    "    elif np.isnan(distance):\n",
    "        return np.NaN"
   ]
  },
  {
   "cell_type": "code",
   "execution_count": 27,
   "metadata": {},
   "outputs": [],
   "source": [
    "rtr_data.height = rtr_data.height.apply(convert_feetinches_to_inches)"
   ]
  },
  {
   "cell_type": "code",
   "execution_count": 28,
   "metadata": {},
   "outputs": [
    {
     "name": "stdout",
     "output_type": "stream",
     "text": [
      "<class 'pandas.core.frame.DataFrame'>\n",
      "RangeIndex: 192544 entries, 0 to 192543\n",
      "Data columns (total 18 columns):\n",
      "age                191584 non-null float64\n",
      "body_type          177907 non-null object\n",
      "bust_size          174133 non-null object\n",
      "category           192544 non-null object\n",
      "fit                192544 non-null object\n",
      "height             191867 non-null float64\n",
      "item_id            192544 non-null int64\n",
      "rating             192462 non-null float64\n",
      "rented_for         192534 non-null object\n",
      "review_date        192544 non-null object\n",
      "review_summary     192544 non-null object\n",
      "review_text        192544 non-null object\n",
      "size               192544 non-null int64\n",
      "user_id            192544 non-null int64\n",
      "weight             162562 non-null float64\n",
      "review_datetime    192544 non-null datetime64[ns]\n",
      "band_size          174133 non-null float64\n",
      "cup_size           174133 non-null object\n",
      "dtypes: datetime64[ns](1), float64(5), int64(3), object(9)\n",
      "memory usage: 26.4+ MB\n"
     ]
    }
   ],
   "source": [
    "rtr_data.info()"
   ]
  },
  {
   "cell_type": "markdown",
   "metadata": {},
   "source": [
    "### Clean RTR:\n",
    "1. Check for duplicate reviews\n",
    "2. Check for garbage reviews, ex. review with no user information or text but including a rating"
   ]
  },
  {
   "cell_type": "code",
   "execution_count": 77,
   "metadata": {},
   "outputs": [
    {
     "data": {
      "text/html": [
       "<div>\n",
       "<style scoped>\n",
       "    .dataframe tbody tr th:only-of-type {\n",
       "        vertical-align: middle;\n",
       "    }\n",
       "\n",
       "    .dataframe tbody tr th {\n",
       "        vertical-align: top;\n",
       "    }\n",
       "\n",
       "    .dataframe thead th {\n",
       "        text-align: right;\n",
       "    }\n",
       "</style>\n",
       "<table border=\"1\" class=\"dataframe\">\n",
       "  <thead>\n",
       "    <tr style=\"text-align: right;\">\n",
       "      <th></th>\n",
       "      <th>age</th>\n",
       "      <th>body_type</th>\n",
       "      <th>bust_size</th>\n",
       "      <th>category</th>\n",
       "      <th>fit</th>\n",
       "      <th>height</th>\n",
       "      <th>item_id</th>\n",
       "      <th>rating</th>\n",
       "      <th>rented_for</th>\n",
       "      <th>review_date</th>\n",
       "      <th>review_summary</th>\n",
       "      <th>review_text</th>\n",
       "      <th>size</th>\n",
       "      <th>user_id</th>\n",
       "      <th>weight</th>\n",
       "      <th>review_datetime</th>\n",
       "      <th>band_size</th>\n",
       "      <th>cup_size</th>\n",
       "    </tr>\n",
       "  </thead>\n",
       "  <tbody>\n",
       "    <tr>\n",
       "      <th>483</th>\n",
       "      <td>34.0</td>\n",
       "      <td>pear</td>\n",
       "      <td>34c</td>\n",
       "      <td>sheath</td>\n",
       "      <td>fit</td>\n",
       "      <td>64.0</td>\n",
       "      <td>1384766</td>\n",
       "      <td>10.0</td>\n",
       "      <td>party</td>\n",
       "      <td>September 20, 2016</td>\n",
       "      <td>I rented this dress for a black &amp; white party....</td>\n",
       "      <td>This dress runs very tight in the waist.  Also...</td>\n",
       "      <td>12</td>\n",
       "      <td>61928</td>\n",
       "      <td>135.0</td>\n",
       "      <td>2016-09-20</td>\n",
       "      <td>34.0</td>\n",
       "      <td>c</td>\n",
       "    </tr>\n",
       "    <tr>\n",
       "      <th>639</th>\n",
       "      <td>34.0</td>\n",
       "      <td>pear</td>\n",
       "      <td>34c</td>\n",
       "      <td>sheath</td>\n",
       "      <td>fit</td>\n",
       "      <td>64.0</td>\n",
       "      <td>1384766</td>\n",
       "      <td>10.0</td>\n",
       "      <td>party</td>\n",
       "      <td>September 20, 2016</td>\n",
       "      <td>I rented this dress for a black &amp; white party....</td>\n",
       "      <td>This dress runs very tight in the waist.  Also...</td>\n",
       "      <td>12</td>\n",
       "      <td>61928</td>\n",
       "      <td>135.0</td>\n",
       "      <td>2016-09-20</td>\n",
       "      <td>34.0</td>\n",
       "      <td>c</td>\n",
       "    </tr>\n",
       "    <tr>\n",
       "      <th>705</th>\n",
       "      <td>42.0</td>\n",
       "      <td>pear</td>\n",
       "      <td>36d</td>\n",
       "      <td>dress</td>\n",
       "      <td>fit</td>\n",
       "      <td>66.0</td>\n",
       "      <td>1522253</td>\n",
       "      <td>8.0</td>\n",
       "      <td>other</td>\n",
       "      <td>April 9, 2015</td>\n",
       "      <td>tons of compliments. Very nice dress</td>\n",
       "      <td>You can dress this up or down.  Great for vaca...</td>\n",
       "      <td>20</td>\n",
       "      <td>952829</td>\n",
       "      <td>165.0</td>\n",
       "      <td>2015-04-09</td>\n",
       "      <td>36.0</td>\n",
       "      <td>d</td>\n",
       "    </tr>\n",
       "    <tr>\n",
       "      <th>1146</th>\n",
       "      <td>53.0</td>\n",
       "      <td>hourglass</td>\n",
       "      <td>36d</td>\n",
       "      <td>dress</td>\n",
       "      <td>fit</td>\n",
       "      <td>62.0</td>\n",
       "      <td>1707988</td>\n",
       "      <td>10.0</td>\n",
       "      <td>other</td>\n",
       "      <td>August 9, 2017</td>\n",
       "      <td>Felt like a Runway Model!</td>\n",
       "      <td>The colors of this dress are absolutely beauti...</td>\n",
       "      <td>16</td>\n",
       "      <td>188164</td>\n",
       "      <td>132.0</td>\n",
       "      <td>2017-08-09</td>\n",
       "      <td>36.0</td>\n",
       "      <td>d</td>\n",
       "    </tr>\n",
       "  </tbody>\n",
       "</table>\n",
       "</div>"
      ],
      "text/plain": [
       "       age  body_type bust_size category  fit  height  item_id  rating  \\\n",
       "483   34.0       pear       34c   sheath  fit    64.0  1384766    10.0   \n",
       "639   34.0       pear       34c   sheath  fit    64.0  1384766    10.0   \n",
       "705   42.0       pear       36d    dress  fit    66.0  1522253     8.0   \n",
       "1146  53.0  hourglass       36d    dress  fit    62.0  1707988    10.0   \n",
       "\n",
       "     rented_for         review_date  \\\n",
       "483       party  September 20, 2016   \n",
       "639       party  September 20, 2016   \n",
       "705       other       April 9, 2015   \n",
       "1146      other      August 9, 2017   \n",
       "\n",
       "                                         review_summary  \\\n",
       "483   I rented this dress for a black & white party....   \n",
       "639   I rented this dress for a black & white party....   \n",
       "705                tons of compliments. Very nice dress   \n",
       "1146                          Felt like a Runway Model!   \n",
       "\n",
       "                                            review_text  size  user_id  \\\n",
       "483   This dress runs very tight in the waist.  Also...    12    61928   \n",
       "639   This dress runs very tight in the waist.  Also...    12    61928   \n",
       "705   You can dress this up or down.  Great for vaca...    20   952829   \n",
       "1146  The colors of this dress are absolutely beauti...    16   188164   \n",
       "\n",
       "      weight review_datetime  band_size cup_size  \n",
       "483    135.0      2016-09-20       34.0        c  \n",
       "639    135.0      2016-09-20       34.0        c  \n",
       "705    165.0      2015-04-09       36.0        d  \n",
       "1146   132.0      2017-08-09       36.0        d  "
      ]
     },
     "execution_count": 77,
     "metadata": {},
     "output_type": "execute_result"
    }
   ],
   "source": [
    "# rtr_data[rtr_data.duplicated(keep=False)].sort_values(by='rtr_data.review_datetime', axis=1)\n",
    "df.head(4)"
   ]
  },
  {
   "cell_type": "code",
   "execution_count": 84,
   "metadata": {},
   "outputs": [
    {
     "data": {
      "text/plain": [
       "438"
      ]
     },
     "execution_count": 84,
     "metadata": {},
     "output_type": "execute_result"
    }
   ],
   "source": [
    "# rtr_data[rtr_data.duplicated(subset=['user_id', 'item_id', 'review_text'], keep=False)]\n",
    "rtr_data.duplicated(subset=['user_id', 'item_id', 'review_text'], keep=False).sum()"
   ]
  },
  {
   "cell_type": "code",
   "execution_count": null,
   "metadata": {},
   "outputs": [],
   "source": [
    "rtr_data.loc[rtr_data.age>80].describe()"
   ]
  },
  {
   "cell_type": "code",
   "execution_count": null,
   "metadata": {},
   "outputs": [],
   "source": [
    "# rtr_data.to_csv('rtr_clean.csv')"
   ]
  },
  {
   "cell_type": "code",
   "execution_count": null,
   "metadata": {},
   "outputs": [],
   "source": []
  }
 ],
 "metadata": {
  "kernelspec": {
   "display_name": "Python 3",
   "language": "python",
   "name": "python3"
  },
  "language_info": {
   "codemirror_mode": {
    "name": "ipython",
    "version": 3
   },
   "file_extension": ".py",
   "mimetype": "text/x-python",
   "name": "python",
   "nbconvert_exporter": "python",
   "pygments_lexer": "ipython3",
   "version": "3.7.3"
  }
 },
 "nbformat": 4,
 "nbformat_minor": 2
}
