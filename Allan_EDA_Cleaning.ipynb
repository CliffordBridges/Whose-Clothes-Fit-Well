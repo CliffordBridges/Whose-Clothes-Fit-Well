{
 "cells": [
  {
   "cell_type": "markdown",
   "metadata": {},
   "source": [
    "# Data Cleaning \\& Feature Engineering Notebook"
   ]
  },
  {
   "cell_type": "code",
   "execution_count": 1,
   "metadata": {},
   "outputs": [],
   "source": [
    "import math\n",
    "import numpy as np\n",
    "import pandas as pd\n",
    "import scipy.stats as stats\n",
    "import matplotlib.pyplot as plt\n",
    "import seaborn as sns\n",
    "import size_review_functions as fxn\n",
    "import warnings\n",
    "from matplotlib import cm\n",
    "%matplotlib inline\n",
    "sns.set(style=\"darkgrid\")\n",
    "warnings.simplefilter('ignore')"
   ]
  },
  {
   "cell_type": "code",
   "execution_count": 2,
   "metadata": {},
   "outputs": [
    {
     "data": {
      "text/html": [
       "<div>\n",
       "<style scoped>\n",
       "    .dataframe tbody tr th:only-of-type {\n",
       "        vertical-align: middle;\n",
       "    }\n",
       "\n",
       "    .dataframe tbody tr th {\n",
       "        vertical-align: top;\n",
       "    }\n",
       "\n",
       "    .dataframe thead th {\n",
       "        text-align: right;\n",
       "    }\n",
       "</style>\n",
       "<table border=\"1\" class=\"dataframe\">\n",
       "  <thead>\n",
       "    <tr style=\"text-align: right;\">\n",
       "      <th></th>\n",
       "      <th>bra size</th>\n",
       "      <th>bust</th>\n",
       "      <th>category</th>\n",
       "      <th>cup size</th>\n",
       "      <th>fit</th>\n",
       "      <th>height</th>\n",
       "      <th>hips</th>\n",
       "      <th>item_id</th>\n",
       "      <th>length</th>\n",
       "      <th>quality</th>\n",
       "      <th>review_summary</th>\n",
       "      <th>review_text</th>\n",
       "      <th>shoe size</th>\n",
       "      <th>shoe width</th>\n",
       "      <th>size</th>\n",
       "      <th>user_id</th>\n",
       "      <th>user_name</th>\n",
       "      <th>waist</th>\n",
       "    </tr>\n",
       "  </thead>\n",
       "  <tbody>\n",
       "    <tr>\n",
       "      <th>0</th>\n",
       "      <td>34.0</td>\n",
       "      <td>36</td>\n",
       "      <td>new</td>\n",
       "      <td>d</td>\n",
       "      <td>small</td>\n",
       "      <td>5ft 6in</td>\n",
       "      <td>38.0</td>\n",
       "      <td>123373</td>\n",
       "      <td>just right</td>\n",
       "      <td>5.0</td>\n",
       "      <td>NaN</td>\n",
       "      <td>NaN</td>\n",
       "      <td>NaN</td>\n",
       "      <td>NaN</td>\n",
       "      <td>7</td>\n",
       "      <td>991571</td>\n",
       "      <td>Emily</td>\n",
       "      <td>29.0</td>\n",
       "    </tr>\n",
       "    <tr>\n",
       "      <th>1</th>\n",
       "      <td>36.0</td>\n",
       "      <td>NaN</td>\n",
       "      <td>new</td>\n",
       "      <td>b</td>\n",
       "      <td>small</td>\n",
       "      <td>5ft 2in</td>\n",
       "      <td>30.0</td>\n",
       "      <td>123373</td>\n",
       "      <td>just right</td>\n",
       "      <td>3.0</td>\n",
       "      <td>NaN</td>\n",
       "      <td>NaN</td>\n",
       "      <td>NaN</td>\n",
       "      <td>NaN</td>\n",
       "      <td>13</td>\n",
       "      <td>587883</td>\n",
       "      <td>sydneybraden2001</td>\n",
       "      <td>31.0</td>\n",
       "    </tr>\n",
       "    <tr>\n",
       "      <th>2</th>\n",
       "      <td>32.0</td>\n",
       "      <td>NaN</td>\n",
       "      <td>new</td>\n",
       "      <td>b</td>\n",
       "      <td>small</td>\n",
       "      <td>5ft 7in</td>\n",
       "      <td>NaN</td>\n",
       "      <td>123373</td>\n",
       "      <td>slightly long</td>\n",
       "      <td>2.0</td>\n",
       "      <td>NaN</td>\n",
       "      <td>NaN</td>\n",
       "      <td>9.0</td>\n",
       "      <td>NaN</td>\n",
       "      <td>7</td>\n",
       "      <td>395665</td>\n",
       "      <td>Ugggh</td>\n",
       "      <td>30.0</td>\n",
       "    </tr>\n",
       "    <tr>\n",
       "      <th>3</th>\n",
       "      <td>NaN</td>\n",
       "      <td>NaN</td>\n",
       "      <td>new</td>\n",
       "      <td>dd/e</td>\n",
       "      <td>fit</td>\n",
       "      <td>NaN</td>\n",
       "      <td>NaN</td>\n",
       "      <td>123373</td>\n",
       "      <td>just right</td>\n",
       "      <td>5.0</td>\n",
       "      <td>NaN</td>\n",
       "      <td>NaN</td>\n",
       "      <td>NaN</td>\n",
       "      <td>NaN</td>\n",
       "      <td>21</td>\n",
       "      <td>875643</td>\n",
       "      <td>alexmeyer626</td>\n",
       "      <td>NaN</td>\n",
       "    </tr>\n",
       "    <tr>\n",
       "      <th>4</th>\n",
       "      <td>36.0</td>\n",
       "      <td>NaN</td>\n",
       "      <td>new</td>\n",
       "      <td>b</td>\n",
       "      <td>small</td>\n",
       "      <td>5ft 2in</td>\n",
       "      <td>NaN</td>\n",
       "      <td>123373</td>\n",
       "      <td>slightly long</td>\n",
       "      <td>5.0</td>\n",
       "      <td>NaN</td>\n",
       "      <td>NaN</td>\n",
       "      <td>NaN</td>\n",
       "      <td>NaN</td>\n",
       "      <td>18</td>\n",
       "      <td>944840</td>\n",
       "      <td>dberrones1</td>\n",
       "      <td>NaN</td>\n",
       "    </tr>\n",
       "  </tbody>\n",
       "</table>\n",
       "</div>"
      ],
      "text/plain": [
       "   bra size bust category cup size    fit   height  hips  item_id  \\\n",
       "0      34.0   36      new        d  small  5ft 6in  38.0   123373   \n",
       "1      36.0  NaN      new        b  small  5ft 2in  30.0   123373   \n",
       "2      32.0  NaN      new        b  small  5ft 7in   NaN   123373   \n",
       "3       NaN  NaN      new     dd/e    fit      NaN   NaN   123373   \n",
       "4      36.0  NaN      new        b  small  5ft 2in   NaN   123373   \n",
       "\n",
       "          length  quality review_summary review_text  shoe size shoe width  \\\n",
       "0     just right      5.0            NaN         NaN        NaN        NaN   \n",
       "1     just right      3.0            NaN         NaN        NaN        NaN   \n",
       "2  slightly long      2.0            NaN         NaN        9.0        NaN   \n",
       "3     just right      5.0            NaN         NaN        NaN        NaN   \n",
       "4  slightly long      5.0            NaN         NaN        NaN        NaN   \n",
       "\n",
       "   size  user_id         user_name  waist  \n",
       "0     7   991571             Emily   29.0  \n",
       "1    13   587883  sydneybraden2001   31.0  \n",
       "2     7   395665             Ugggh   30.0  \n",
       "3    21   875643      alexmeyer626    NaN  \n",
       "4    18   944840        dberrones1    NaN  "
      ]
     },
     "execution_count": 2,
     "metadata": {},
     "output_type": "execute_result"
    }
   ],
   "source": [
    "#getting data\n",
    "modcloth_data = pd.read_json('modcloth_final_data.zip', lines=True)\n",
    "modcloth_data.head()"
   ]
  },
  {
   "cell_type": "markdown",
   "metadata": {},
   "source": [
    "## Cleaning:\n",
    "Due to string entries on what shoud be numerical data, a function was created to conver these values"
   ]
  },
  {
   "cell_type": "markdown",
   "metadata": {},
   "source": [
    "### Converting height entries to inches"
   ]
  },
  {
   "cell_type": "code",
   "execution_count": 3,
   "metadata": {},
   "outputs": [
    {
     "data": {
      "text/html": [
       "<div>\n",
       "<style scoped>\n",
       "    .dataframe tbody tr th:only-of-type {\n",
       "        vertical-align: middle;\n",
       "    }\n",
       "\n",
       "    .dataframe tbody tr th {\n",
       "        vertical-align: top;\n",
       "    }\n",
       "\n",
       "    .dataframe thead th {\n",
       "        text-align: right;\n",
       "    }\n",
       "</style>\n",
       "<table border=\"1\" class=\"dataframe\">\n",
       "  <thead>\n",
       "    <tr style=\"text-align: right;\">\n",
       "      <th></th>\n",
       "      <th>bra size</th>\n",
       "      <th>bust</th>\n",
       "      <th>category</th>\n",
       "      <th>cup size</th>\n",
       "      <th>fit</th>\n",
       "      <th>height</th>\n",
       "      <th>hips</th>\n",
       "      <th>item_id</th>\n",
       "      <th>length</th>\n",
       "      <th>quality</th>\n",
       "      <th>review_summary</th>\n",
       "      <th>review_text</th>\n",
       "      <th>shoe size</th>\n",
       "      <th>shoe width</th>\n",
       "      <th>size</th>\n",
       "      <th>user_id</th>\n",
       "      <th>user_name</th>\n",
       "      <th>waist</th>\n",
       "    </tr>\n",
       "  </thead>\n",
       "  <tbody>\n",
       "    <tr>\n",
       "      <th>0</th>\n",
       "      <td>34.0</td>\n",
       "      <td>36</td>\n",
       "      <td>new</td>\n",
       "      <td>d</td>\n",
       "      <td>small</td>\n",
       "      <td>66.0</td>\n",
       "      <td>38.0</td>\n",
       "      <td>123373</td>\n",
       "      <td>just right</td>\n",
       "      <td>5.0</td>\n",
       "      <td>NaN</td>\n",
       "      <td>NaN</td>\n",
       "      <td>NaN</td>\n",
       "      <td>NaN</td>\n",
       "      <td>7</td>\n",
       "      <td>991571</td>\n",
       "      <td>Emily</td>\n",
       "      <td>29.0</td>\n",
       "    </tr>\n",
       "    <tr>\n",
       "      <th>1</th>\n",
       "      <td>36.0</td>\n",
       "      <td>NaN</td>\n",
       "      <td>new</td>\n",
       "      <td>b</td>\n",
       "      <td>small</td>\n",
       "      <td>62.0</td>\n",
       "      <td>30.0</td>\n",
       "      <td>123373</td>\n",
       "      <td>just right</td>\n",
       "      <td>3.0</td>\n",
       "      <td>NaN</td>\n",
       "      <td>NaN</td>\n",
       "      <td>NaN</td>\n",
       "      <td>NaN</td>\n",
       "      <td>13</td>\n",
       "      <td>587883</td>\n",
       "      <td>sydneybraden2001</td>\n",
       "      <td>31.0</td>\n",
       "    </tr>\n",
       "    <tr>\n",
       "      <th>2</th>\n",
       "      <td>32.0</td>\n",
       "      <td>NaN</td>\n",
       "      <td>new</td>\n",
       "      <td>b</td>\n",
       "      <td>small</td>\n",
       "      <td>67.0</td>\n",
       "      <td>NaN</td>\n",
       "      <td>123373</td>\n",
       "      <td>slightly long</td>\n",
       "      <td>2.0</td>\n",
       "      <td>NaN</td>\n",
       "      <td>NaN</td>\n",
       "      <td>9.0</td>\n",
       "      <td>NaN</td>\n",
       "      <td>7</td>\n",
       "      <td>395665</td>\n",
       "      <td>Ugggh</td>\n",
       "      <td>30.0</td>\n",
       "    </tr>\n",
       "    <tr>\n",
       "      <th>3</th>\n",
       "      <td>NaN</td>\n",
       "      <td>NaN</td>\n",
       "      <td>new</td>\n",
       "      <td>dd/e</td>\n",
       "      <td>fit</td>\n",
       "      <td>NaN</td>\n",
       "      <td>NaN</td>\n",
       "      <td>123373</td>\n",
       "      <td>just right</td>\n",
       "      <td>5.0</td>\n",
       "      <td>NaN</td>\n",
       "      <td>NaN</td>\n",
       "      <td>NaN</td>\n",
       "      <td>NaN</td>\n",
       "      <td>21</td>\n",
       "      <td>875643</td>\n",
       "      <td>alexmeyer626</td>\n",
       "      <td>NaN</td>\n",
       "    </tr>\n",
       "    <tr>\n",
       "      <th>4</th>\n",
       "      <td>36.0</td>\n",
       "      <td>NaN</td>\n",
       "      <td>new</td>\n",
       "      <td>b</td>\n",
       "      <td>small</td>\n",
       "      <td>62.0</td>\n",
       "      <td>NaN</td>\n",
       "      <td>123373</td>\n",
       "      <td>slightly long</td>\n",
       "      <td>5.0</td>\n",
       "      <td>NaN</td>\n",
       "      <td>NaN</td>\n",
       "      <td>NaN</td>\n",
       "      <td>NaN</td>\n",
       "      <td>18</td>\n",
       "      <td>944840</td>\n",
       "      <td>dberrones1</td>\n",
       "      <td>NaN</td>\n",
       "    </tr>\n",
       "  </tbody>\n",
       "</table>\n",
       "</div>"
      ],
      "text/plain": [
       "   bra size bust category cup size    fit  height  hips  item_id  \\\n",
       "0      34.0   36      new        d  small    66.0  38.0   123373   \n",
       "1      36.0  NaN      new        b  small    62.0  30.0   123373   \n",
       "2      32.0  NaN      new        b  small    67.0   NaN   123373   \n",
       "3       NaN  NaN      new     dd/e    fit     NaN   NaN   123373   \n",
       "4      36.0  NaN      new        b  small    62.0   NaN   123373   \n",
       "\n",
       "          length  quality review_summary review_text  shoe size shoe width  \\\n",
       "0     just right      5.0            NaN         NaN        NaN        NaN   \n",
       "1     just right      3.0            NaN         NaN        NaN        NaN   \n",
       "2  slightly long      2.0            NaN         NaN        9.0        NaN   \n",
       "3     just right      5.0            NaN         NaN        NaN        NaN   \n",
       "4  slightly long      5.0            NaN         NaN        NaN        NaN   \n",
       "\n",
       "   size  user_id         user_name  waist  \n",
       "0     7   991571             Emily   29.0  \n",
       "1    13   587883  sydneybraden2001   31.0  \n",
       "2     7   395665             Ugggh   30.0  \n",
       "3    21   875643      alexmeyer626    NaN  \n",
       "4    18   944840        dberrones1    NaN  "
      ]
     },
     "execution_count": 3,
     "metadata": {},
     "output_type": "execute_result"
    }
   ],
   "source": [
    "modcloth_data.height = modcloth_data.height.apply(fxn.convert_feetinches_to_inches)\n",
    "modcloth_data.head()"
   ]
  },
  {
   "cell_type": "code",
   "execution_count": 4,
   "metadata": {},
   "outputs": [
    {
     "name": "stdout",
     "output_type": "stream",
     "text": [
      "<class 'pandas.core.frame.DataFrame'>\n",
      "RangeIndex: 82790 entries, 0 to 82789\n",
      "Data columns (total 18 columns):\n",
      "bra size          76772 non-null float64\n",
      "bust              11854 non-null object\n",
      "category          82790 non-null object\n",
      "cup size          76535 non-null object\n",
      "fit               82790 non-null object\n",
      "height            81683 non-null float64\n",
      "hips              56064 non-null float64\n",
      "item_id           82790 non-null int64\n",
      "length            82755 non-null object\n",
      "quality           82722 non-null float64\n",
      "review_summary    76065 non-null object\n",
      "review_text       76065 non-null object\n",
      "shoe size         27915 non-null float64\n",
      "shoe width        18607 non-null object\n",
      "size              82790 non-null int64\n",
      "user_id           82790 non-null int64\n",
      "user_name         82790 non-null object\n",
      "waist             2882 non-null float64\n",
      "dtypes: float64(6), int64(3), object(9)\n",
      "memory usage: 11.4+ MB\n"
     ]
    }
   ],
   "source": [
    "modcloth_data.info()"
   ]
  },
  {
   "cell_type": "markdown",
   "metadata": {},
   "source": [
    "It is evident that there are a lot of features with a lot of null values. But before proceeding with cleaning the null values, checking for duplicates should be done."
   ]
  },
  {
   "cell_type": "code",
   "execution_count": 5,
   "metadata": {},
   "outputs": [
    {
     "data": {
      "text/plain": [
       "False    82413\n",
       "True       377\n",
       "dtype: int64"
      ]
     },
     "execution_count": 5,
     "metadata": {},
     "output_type": "execute_result"
    }
   ],
   "source": [
    "modcloth_data.duplicated().value_counts()"
   ]
  },
  {
   "cell_type": "code",
   "execution_count": 6,
   "metadata": {},
   "outputs": [],
   "source": [
    "modcloth_data.drop_duplicates(keep = False, inplace= True)"
   ]
  },
  {
   "cell_type": "code",
   "execution_count": 7,
   "metadata": {
    "scrolled": true
   },
   "outputs": [
    {
     "name": "stdout",
     "output_type": "stream",
     "text": [
      "<class 'pandas.core.frame.DataFrame'>\n",
      "Int64Index: 82036 entries, 0 to 82789\n",
      "Data columns (total 18 columns):\n",
      "bra size          76070 non-null float64\n",
      "bust              11738 non-null object\n",
      "category          82036 non-null object\n",
      "cup size          75835 non-null object\n",
      "fit               82036 non-null object\n",
      "height            80933 non-null float64\n",
      "hips              55544 non-null float64\n",
      "item_id           82036 non-null int64\n",
      "length            82001 non-null object\n",
      "quality           81968 non-null float64\n",
      "review_summary    75343 non-null object\n",
      "review_text       75343 non-null object\n",
      "shoe size         27665 non-null float64\n",
      "shoe width        18435 non-null object\n",
      "size              82036 non-null int64\n",
      "user_id           82036 non-null int64\n",
      "user_name         82036 non-null object\n",
      "waist             2880 non-null float64\n",
      "dtypes: float64(6), int64(3), object(9)\n",
      "memory usage: 11.9+ MB\n"
     ]
    }
   ],
   "source": [
    "modcloth_data.info()"
   ]
  },
  {
   "cell_type": "markdown",
   "metadata": {},
   "source": [
    "## Plotting Numerical Data"
   ]
  },
  {
   "cell_type": "code",
   "execution_count": 8,
   "metadata": {
    "scrolled": false
   },
   "outputs": [
    {
     "data": {
      "image/png": "[encoded data removed]",
      "text/plain": [
       "<Figure size 1080x576 with 1 Axes>"
      ]
     },
     "metadata": {
      "needs_background": "light"
     },
     "output_type": "display_data"
    }
   ],
   "source": [
    "figure = plt.figure(figsize=(15, 8))\n",
    "\n",
    "axes = figure.add_subplot(1, 1, 1)\n",
    "axes.hist(modcloth_data['waist'], color=\"darkslategray\",bins=30)\n",
    "axes.set_title(\"Distribution of waist\")\n",
    "axes.set_xlabel(\"Waist\")\n",
    "\n",
    "plt.show()\n",
    "plt.close()\n"
   ]
  },
  {
   "cell_type": "code",
   "execution_count": 9,
   "metadata": {
    "scrolled": false
   },
   "outputs": [
    {
     "data": {
      "image/png": "[encoded data removed]",
      "text/plain": [
       "<Figure size 720x576 with 1 Axes>"
      ]
     },
     "metadata": {
      "needs_background": "light"
     },
     "output_type": "display_data"
    }
   ],
   "source": [
    "figure = plt.figure(figsize=(10, 8))\n",
    "\n",
    "axes = figure.add_subplot(1, 1, 1)\n",
    "axes.hist(modcloth_data['height'], color=\"darkslategray\",bins=60)\n",
    "axes.set_title(\"Distribution of Height\")\n",
    "axes.set_xlabel(\"Height\")\n",
    "\n",
    "plt.show()\n",
    "plt.close()\n",
    "\n"
   ]
  },
  {
   "cell_type": "code",
   "execution_count": 10,
   "metadata": {},
   "outputs": [
    {
     "data": {
      "image/png": "[encoded data removed]",
      "text/plain": [
       "<Figure size 720x576 with 1 Axes>"
      ]
     },
     "metadata": {
      "needs_background": "light"
     },
     "output_type": "display_data"
    }
   ],
   "source": [
    "figure = plt.figure(figsize=(10, 8))\n",
    "\n",
    "axes = figure.add_subplot(1, 1, 1)\n",
    "axes.hist(modcloth_data['hips'], color=\"darkslategray\",bins=30)\n",
    "axes.set_title(\"Distribution of Hips\")\n",
    "axes.set_xlabel(\"Hips\")\n",
    "\n",
    "plt.show()\n",
    "plt.close()\n",
    "\n"
   ]
  },
  {
   "cell_type": "markdown",
   "metadata": {},
   "source": [
    "Based on the charts and what we deemed unnecessary fatures, we will drop column from the data frame"
   ]
  },
  {
   "cell_type": "code",
   "execution_count": 11,
   "metadata": {},
   "outputs": [
    {
     "name": "stdout",
     "output_type": "stream",
     "text": [
      "<class 'pandas.core.frame.DataFrame'>\n",
      "Int64Index: 82036 entries, 0 to 82789\n",
      "Data columns (total 11 columns):\n",
      "bra size    76070 non-null float64\n",
      "cup size    75835 non-null object\n",
      "fit         82036 non-null object\n",
      "height      80933 non-null float64\n",
      "hips        55544 non-null float64\n",
      "item_id     82036 non-null int64\n",
      "length      82001 non-null object\n",
      "quality     81968 non-null float64\n",
      "size        82036 non-null int64\n",
      "user_id     82036 non-null int64\n",
      "waist       2880 non-null float64\n",
      "dtypes: float64(5), int64(3), object(3)\n",
      "memory usage: 7.5+ MB\n"
     ]
    }
   ],
   "source": [
    "columns_to_drop_modcloth = [\n",
    "    'bust','shoe size','shoe width','category','review_summary','review_text','user_name'\n",
    "]\n",
    "#create a new data fram to populate missing values  in features where majority are null\n",
    "modcloth_sub = modcloth_data.drop(columns_to_drop_modcloth, axis = 1)\n",
    "\n",
    "#Drop unusable and unnecessary features just to keep original dataframe without over filling the null values\n",
    "modcloth_data.drop(columns_to_drop_modcloth, axis = 1,inplace = True)\n",
    "\n",
    "modcloth_sub.info()"
   ]
  },
  {
   "cell_type": "code",
   "execution_count": 12,
   "metadata": {
    "scrolled": true
   },
   "outputs": [
    {
     "data": {
      "text/html": [
       "<div>\n",
       "<style scoped>\n",
       "    .dataframe tbody tr th:only-of-type {\n",
       "        vertical-align: middle;\n",
       "    }\n",
       "\n",
       "    .dataframe tbody tr th {\n",
       "        vertical-align: top;\n",
       "    }\n",
       "\n",
       "    .dataframe thead th {\n",
       "        text-align: right;\n",
       "    }\n",
       "</style>\n",
       "<table border=\"1\" class=\"dataframe\">\n",
       "  <thead>\n",
       "    <tr style=\"text-align: right;\">\n",
       "      <th></th>\n",
       "      <th>bra size</th>\n",
       "      <th>cup size</th>\n",
       "      <th>fit</th>\n",
       "      <th>height</th>\n",
       "      <th>hips</th>\n",
       "      <th>item_id</th>\n",
       "      <th>length</th>\n",
       "      <th>quality</th>\n",
       "      <th>size</th>\n",
       "      <th>user_id</th>\n",
       "      <th>waist</th>\n",
       "    </tr>\n",
       "  </thead>\n",
       "  <tbody>\n",
       "    <tr>\n",
       "      <th>0</th>\n",
       "      <td>34.0</td>\n",
       "      <td>d</td>\n",
       "      <td>small</td>\n",
       "      <td>66.0</td>\n",
       "      <td>38.0</td>\n",
       "      <td>123373</td>\n",
       "      <td>just right</td>\n",
       "      <td>5.0</td>\n",
       "      <td>7</td>\n",
       "      <td>991571</td>\n",
       "      <td>29.0</td>\n",
       "    </tr>\n",
       "    <tr>\n",
       "      <th>1</th>\n",
       "      <td>36.0</td>\n",
       "      <td>b</td>\n",
       "      <td>small</td>\n",
       "      <td>62.0</td>\n",
       "      <td>30.0</td>\n",
       "      <td>123373</td>\n",
       "      <td>just right</td>\n",
       "      <td>3.0</td>\n",
       "      <td>13</td>\n",
       "      <td>587883</td>\n",
       "      <td>31.0</td>\n",
       "    </tr>\n",
       "    <tr>\n",
       "      <th>2</th>\n",
       "      <td>32.0</td>\n",
       "      <td>b</td>\n",
       "      <td>small</td>\n",
       "      <td>67.0</td>\n",
       "      <td>35.0</td>\n",
       "      <td>123373</td>\n",
       "      <td>slightly long</td>\n",
       "      <td>2.0</td>\n",
       "      <td>7</td>\n",
       "      <td>395665</td>\n",
       "      <td>30.0</td>\n",
       "    </tr>\n",
       "    <tr>\n",
       "      <th>3</th>\n",
       "      <td>NaN</td>\n",
       "      <td>dd/e</td>\n",
       "      <td>fit</td>\n",
       "      <td>NaN</td>\n",
       "      <td>NaN</td>\n",
       "      <td>123373</td>\n",
       "      <td>just right</td>\n",
       "      <td>5.0</td>\n",
       "      <td>21</td>\n",
       "      <td>875643</td>\n",
       "      <td>NaN</td>\n",
       "    </tr>\n",
       "    <tr>\n",
       "      <th>4</th>\n",
       "      <td>36.0</td>\n",
       "      <td>b</td>\n",
       "      <td>small</td>\n",
       "      <td>62.0</td>\n",
       "      <td>NaN</td>\n",
       "      <td>123373</td>\n",
       "      <td>slightly long</td>\n",
       "      <td>5.0</td>\n",
       "      <td>18</td>\n",
       "      <td>944840</td>\n",
       "      <td>NaN</td>\n",
       "    </tr>\n",
       "    <tr>\n",
       "      <th>5</th>\n",
       "      <td>36.0</td>\n",
       "      <td>c</td>\n",
       "      <td>small</td>\n",
       "      <td>64.0</td>\n",
       "      <td>41.0</td>\n",
       "      <td>123373</td>\n",
       "      <td>just right</td>\n",
       "      <td>5.0</td>\n",
       "      <td>11</td>\n",
       "      <td>162012</td>\n",
       "      <td>27.0</td>\n",
       "    </tr>\n",
       "    <tr>\n",
       "      <th>6</th>\n",
       "      <td>32.0</td>\n",
       "      <td>b</td>\n",
       "      <td>large</td>\n",
       "      <td>63.0</td>\n",
       "      <td>31.0</td>\n",
       "      <td>123373</td>\n",
       "      <td>just right</td>\n",
       "      <td>1.0</td>\n",
       "      <td>5</td>\n",
       "      <td>114843</td>\n",
       "      <td>26.0</td>\n",
       "    </tr>\n",
       "    <tr>\n",
       "      <th>7</th>\n",
       "      <td>38.0</td>\n",
       "      <td>d</td>\n",
       "      <td>small</td>\n",
       "      <td>65.0</td>\n",
       "      <td>42.0</td>\n",
       "      <td>123373</td>\n",
       "      <td>just right</td>\n",
       "      <td>5.0</td>\n",
       "      <td>11</td>\n",
       "      <td>58869</td>\n",
       "      <td>36.0</td>\n",
       "    </tr>\n",
       "    <tr>\n",
       "      <th>8</th>\n",
       "      <td>42.0</td>\n",
       "      <td>d</td>\n",
       "      <td>small</td>\n",
       "      <td>70.0</td>\n",
       "      <td>50.0</td>\n",
       "      <td>123373</td>\n",
       "      <td>just right</td>\n",
       "      <td>4.0</td>\n",
       "      <td>30</td>\n",
       "      <td>279568</td>\n",
       "      <td>42.0</td>\n",
       "    </tr>\n",
       "    <tr>\n",
       "      <th>9</th>\n",
       "      <td>36.0</td>\n",
       "      <td>dd/e</td>\n",
       "      <td>fit</td>\n",
       "      <td>66.0</td>\n",
       "      <td>41.0</td>\n",
       "      <td>123373</td>\n",
       "      <td>just right</td>\n",
       "      <td>5.0</td>\n",
       "      <td>13</td>\n",
       "      <td>950172</td>\n",
       "      <td>35.0</td>\n",
       "    </tr>\n",
       "  </tbody>\n",
       "</table>\n",
       "</div>"
      ],
      "text/plain": [
       "   bra size cup size    fit  height  hips  item_id         length  quality  \\\n",
       "0      34.0        d  small    66.0  38.0   123373     just right      5.0   \n",
       "1      36.0        b  small    62.0  30.0   123373     just right      3.0   \n",
       "2      32.0        b  small    67.0  35.0   123373  slightly long      2.0   \n",
       "3       NaN     dd/e    fit     NaN   NaN   123373     just right      5.0   \n",
       "4      36.0        b  small    62.0   NaN   123373  slightly long      5.0   \n",
       "5      36.0        c  small    64.0  41.0   123373     just right      5.0   \n",
       "6      32.0        b  large    63.0  31.0   123373     just right      1.0   \n",
       "7      38.0        d  small    65.0  42.0   123373     just right      5.0   \n",
       "8      42.0        d  small    70.0  50.0   123373     just right      4.0   \n",
       "9      36.0     dd/e    fit    66.0  41.0   123373     just right      5.0   \n",
       "\n",
       "   size  user_id  waist  \n",
       "0     7   991571   29.0  \n",
       "1    13   587883   31.0  \n",
       "2     7   395665   30.0  \n",
       "3    21   875643    NaN  \n",
       "4    18   944840    NaN  \n",
       "5    11   162012   27.0  \n",
       "6     5   114843   26.0  \n",
       "7    11    58869   36.0  \n",
       "8    30   279568   42.0  \n",
       "9    13   950172   35.0  "
      ]
     },
     "execution_count": 12,
     "metadata": {},
     "output_type": "execute_result"
    }
   ],
   "source": [
    "x = list(zip(modcloth_sub.waist,modcloth_sub.hips))\n",
    "ratios = fxn.hip_waist_ratio(x)\n",
    "modcloth_sub.waist = pd.Series(i[0] for i in ratios)\n",
    "modcloth_sub.hips = pd.Series(i[1] for i in ratios)\n",
    "modcloth_sub.head(10)"
   ]
  },
  {
   "cell_type": "code",
   "execution_count": 13,
   "metadata": {
    "scrolled": false
   },
   "outputs": [
    {
     "data": {
      "image/png": "[encoded data removed]",
      "text/plain": [
       "<Figure size 864x720 with 2 Axes>"
      ]
     },
     "metadata": {
      "needs_background": "light"
     },
     "output_type": "display_data"
    }
   ],
   "source": [
    "figure = plt.figure(figsize=(12, 10))\n",
    "\n",
    "axes = figure.add_subplot(2, 1, 1)\n",
    "axes.hist(modcloth_data['waist'], color=\"darkslategray\",bins=30)\n",
    "axes.set_title(\"Distribution of Waist\")\n",
    "axes.set_xlabel(\"Waist\")\n",
    "\n",
    "\n",
    "axes = figure.add_subplot(2, 1, 2)\n",
    "axes.hist(modcloth_sub['waist'], color=\"darkslategray\",bins=30)\n",
    "axes.set_title(\"Distribution of Waist\")\n",
    "axes.set_xlabel(\"Waist\")\n",
    "\n",
    "plt.show()\n",
    "plt.close()\n",
    "\n"
   ]
  },
  {
   "cell_type": "code",
   "execution_count": 14,
   "metadata": {},
   "outputs": [
    {
     "data": {
      "text/html": [
       "<div>\n",
       "<style scoped>\n",
       "    .dataframe tbody tr th:only-of-type {\n",
       "        vertical-align: middle;\n",
       "    }\n",
       "\n",
       "    .dataframe tbody tr th {\n",
       "        vertical-align: top;\n",
       "    }\n",
       "\n",
       "    .dataframe thead th {\n",
       "        text-align: right;\n",
       "    }\n",
       "</style>\n",
       "<table border=\"1\" class=\"dataframe\">\n",
       "  <thead>\n",
       "    <tr style=\"text-align: right;\">\n",
       "      <th></th>\n",
       "      <th>bra size</th>\n",
       "      <th>cup size</th>\n",
       "      <th>fit</th>\n",
       "      <th>height</th>\n",
       "      <th>hips</th>\n",
       "      <th>item_id</th>\n",
       "      <th>length</th>\n",
       "      <th>quality</th>\n",
       "      <th>size</th>\n",
       "      <th>user_id</th>\n",
       "      <th>waist</th>\n",
       "    </tr>\n",
       "  </thead>\n",
       "  <tbody>\n",
       "    <tr>\n",
       "      <th>0</th>\n",
       "      <td>34.0</td>\n",
       "      <td>d</td>\n",
       "      <td>small</td>\n",
       "      <td>66.0</td>\n",
       "      <td>38.0</td>\n",
       "      <td>123373</td>\n",
       "      <td>just right</td>\n",
       "      <td>5.0</td>\n",
       "      <td>7</td>\n",
       "      <td>991571</td>\n",
       "      <td>29.0</td>\n",
       "    </tr>\n",
       "    <tr>\n",
       "      <th>1</th>\n",
       "      <td>36.0</td>\n",
       "      <td>b</td>\n",
       "      <td>small</td>\n",
       "      <td>62.0</td>\n",
       "      <td>30.0</td>\n",
       "      <td>123373</td>\n",
       "      <td>just right</td>\n",
       "      <td>3.0</td>\n",
       "      <td>13</td>\n",
       "      <td>587883</td>\n",
       "      <td>31.0</td>\n",
       "    </tr>\n",
       "    <tr>\n",
       "      <th>2</th>\n",
       "      <td>32.0</td>\n",
       "      <td>b</td>\n",
       "      <td>small</td>\n",
       "      <td>67.0</td>\n",
       "      <td>NaN</td>\n",
       "      <td>123373</td>\n",
       "      <td>slightly long</td>\n",
       "      <td>2.0</td>\n",
       "      <td>7</td>\n",
       "      <td>395665</td>\n",
       "      <td>30.0</td>\n",
       "    </tr>\n",
       "    <tr>\n",
       "      <th>5</th>\n",
       "      <td>36.0</td>\n",
       "      <td>c</td>\n",
       "      <td>small</td>\n",
       "      <td>64.0</td>\n",
       "      <td>41.0</td>\n",
       "      <td>123373</td>\n",
       "      <td>just right</td>\n",
       "      <td>5.0</td>\n",
       "      <td>11</td>\n",
       "      <td>162012</td>\n",
       "      <td>27.0</td>\n",
       "    </tr>\n",
       "    <tr>\n",
       "      <th>6</th>\n",
       "      <td>32.0</td>\n",
       "      <td>b</td>\n",
       "      <td>large</td>\n",
       "      <td>63.0</td>\n",
       "      <td>NaN</td>\n",
       "      <td>123373</td>\n",
       "      <td>just right</td>\n",
       "      <td>1.0</td>\n",
       "      <td>5</td>\n",
       "      <td>114843</td>\n",
       "      <td>26.0</td>\n",
       "    </tr>\n",
       "  </tbody>\n",
       "</table>\n",
       "</div>"
      ],
      "text/plain": [
       "   bra size cup size    fit  height  hips  item_id         length  quality  \\\n",
       "0      34.0        d  small    66.0  38.0   123373     just right      5.0   \n",
       "1      36.0        b  small    62.0  30.0   123373     just right      3.0   \n",
       "2      32.0        b  small    67.0   NaN   123373  slightly long      2.0   \n",
       "5      36.0        c  small    64.0  41.0   123373     just right      5.0   \n",
       "6      32.0        b  large    63.0   NaN   123373     just right      1.0   \n",
       "\n",
       "   size  user_id  waist  \n",
       "0     7   991571   29.0  \n",
       "1    13   587883   31.0  \n",
       "2     7   395665   30.0  \n",
       "5    11   162012   27.0  \n",
       "6     5   114843   26.0  "
      ]
     },
     "execution_count": 14,
     "metadata": {},
     "output_type": "execute_result"
    }
   ],
   "source": [
    "modcloth_waist = modcloth_data[modcloth_data.waist.isnull()==False]\n",
    "modcloth_waist.head()"
   ]
  },
  {
   "cell_type": "code",
   "execution_count": 15,
   "metadata": {},
   "outputs": [
    {
     "name": "stdout",
     "output_type": "stream",
     "text": [
      "<class 'pandas.core.frame.DataFrame'>\n",
      "Int64Index: 2880 entries, 0 to 82720\n",
      "Data columns (total 11 columns):\n",
      "bra size    2633 non-null float64\n",
      "cup size    2574 non-null object\n",
      "fit         2880 non-null object\n",
      "height      2850 non-null float64\n",
      "hips        2345 non-null float64\n",
      "item_id     2880 non-null int64\n",
      "length      2866 non-null object\n",
      "quality     2841 non-null float64\n",
      "size        2880 non-null int64\n",
      "user_id     2880 non-null int64\n",
      "waist       2880 non-null float64\n",
      "dtypes: float64(5), int64(3), object(3)\n",
      "memory usage: 270.0+ KB\n"
     ]
    }
   ],
   "source": [
    "modcloth_waist.info()"
   ]
  },
  {
   "cell_type": "code",
   "execution_count": 16,
   "metadata": {},
   "outputs": [
    {
     "data": {
      "image/png": "[encoded data removed]",
      "text/plain": [
       "<Figure size 1080x864 with 2 Axes>"
      ]
     },
     "metadata": {
      "needs_background": "light"
     },
     "output_type": "display_data"
    }
   ],
   "source": [
    "figure = plt.figure(figsize=(15, 12))\n",
    "\n",
    "axes = figure.add_subplot(2, 1, 1)\n",
    "\n",
    "\n",
    "axes.scatter(  modcloth_waist['hips'], modcloth_waist['waist'],marker=\".\", color=\"darkslategray\")\n",
    "axes.set_ylabel(\"Waist\")\n",
    "axes.set_xlabel(\"Hips\")\n",
    "axes.set_xticks(np.arange(25,60,step = 5))\n",
    "axes.set_title(\"Scatter Plot of Waist vs. Hips\")\n",
    "\n",
    "axes = figure.add_subplot(2, 1, 2)\n",
    "axes.scatter(  modcloth_sub['hips'], modcloth_sub['waist'],marker=\".\", color=\"darkslategray\")\n",
    "axes.set_xticks(np.arange(25,60,step = 5))\n",
    "axes.set_ylabel(\"Waist\")\n",
    "axes.set_xlabel(\"Hips\")\n",
    "axes.set_title(\"Scatter Plot of Waist vs. Hips\")\n",
    "\n",
    "plt.show()\n",
    "plt.close()"
   ]
  },
  {
   "cell_type": "code",
   "execution_count": 17,
   "metadata": {},
   "outputs": [
    {
     "data": {
      "text/html": [
       "<div>\n",
       "<style scoped>\n",
       "    .dataframe tbody tr th:only-of-type {\n",
       "        vertical-align: middle;\n",
       "    }\n",
       "\n",
       "    .dataframe tbody tr th {\n",
       "        vertical-align: top;\n",
       "    }\n",
       "\n",
       "    .dataframe thead th {\n",
       "        text-align: right;\n",
       "    }\n",
       "</style>\n",
       "<table border=\"1\" class=\"dataframe\">\n",
       "  <thead>\n",
       "    <tr style=\"text-align: right;\">\n",
       "      <th></th>\n",
       "      <th>bra size</th>\n",
       "      <th>cup size</th>\n",
       "      <th>fit</th>\n",
       "      <th>height</th>\n",
       "      <th>hips</th>\n",
       "      <th>item_id</th>\n",
       "      <th>length</th>\n",
       "      <th>quality</th>\n",
       "      <th>size</th>\n",
       "      <th>user_id</th>\n",
       "      <th>waist</th>\n",
       "    </tr>\n",
       "  </thead>\n",
       "  <tbody>\n",
       "    <tr>\n",
       "      <th>0</th>\n",
       "      <td>34.0</td>\n",
       "      <td>d</td>\n",
       "      <td>small</td>\n",
       "      <td>66.0</td>\n",
       "      <td>38.0</td>\n",
       "      <td>123373</td>\n",
       "      <td>just right</td>\n",
       "      <td>5.0</td>\n",
       "      <td>7</td>\n",
       "      <td>991571</td>\n",
       "      <td>29.0</td>\n",
       "    </tr>\n",
       "    <tr>\n",
       "      <th>1</th>\n",
       "      <td>36.0</td>\n",
       "      <td>b</td>\n",
       "      <td>small</td>\n",
       "      <td>62.0</td>\n",
       "      <td>30.0</td>\n",
       "      <td>123373</td>\n",
       "      <td>just right</td>\n",
       "      <td>3.0</td>\n",
       "      <td>13</td>\n",
       "      <td>587883</td>\n",
       "      <td>31.0</td>\n",
       "    </tr>\n",
       "    <tr>\n",
       "      <th>2</th>\n",
       "      <td>32.0</td>\n",
       "      <td>b</td>\n",
       "      <td>small</td>\n",
       "      <td>67.0</td>\n",
       "      <td>35.0</td>\n",
       "      <td>123373</td>\n",
       "      <td>slightly long</td>\n",
       "      <td>2.0</td>\n",
       "      <td>7</td>\n",
       "      <td>395665</td>\n",
       "      <td>30.0</td>\n",
       "    </tr>\n",
       "    <tr>\n",
       "      <th>5</th>\n",
       "      <td>36.0</td>\n",
       "      <td>c</td>\n",
       "      <td>small</td>\n",
       "      <td>64.0</td>\n",
       "      <td>34.0</td>\n",
       "      <td>123373</td>\n",
       "      <td>just right</td>\n",
       "      <td>5.0</td>\n",
       "      <td>11</td>\n",
       "      <td>162012</td>\n",
       "      <td>28.0</td>\n",
       "    </tr>\n",
       "    <tr>\n",
       "      <th>6</th>\n",
       "      <td>32.0</td>\n",
       "      <td>b</td>\n",
       "      <td>large</td>\n",
       "      <td>63.0</td>\n",
       "      <td>36.0</td>\n",
       "      <td>123373</td>\n",
       "      <td>just right</td>\n",
       "      <td>1.0</td>\n",
       "      <td>5</td>\n",
       "      <td>114843</td>\n",
       "      <td>31.0</td>\n",
       "    </tr>\n",
       "    <tr>\n",
       "      <th>239</th>\n",
       "      <td>34.0</td>\n",
       "      <td>dd/e</td>\n",
       "      <td>fit</td>\n",
       "      <td>65.0</td>\n",
       "      <td>41.0</td>\n",
       "      <td>124761</td>\n",
       "      <td>just right</td>\n",
       "      <td>3.0</td>\n",
       "      <td>7</td>\n",
       "      <td>242643</td>\n",
       "      <td>31.0</td>\n",
       "    </tr>\n",
       "    <tr>\n",
       "      <th>299</th>\n",
       "      <td>34.0</td>\n",
       "      <td>c</td>\n",
       "      <td>fit</td>\n",
       "      <td>67.0</td>\n",
       "      <td>40.0</td>\n",
       "      <td>125442</td>\n",
       "      <td>just right</td>\n",
       "      <td>5.0</td>\n",
       "      <td>11</td>\n",
       "      <td>575252</td>\n",
       "      <td>28.0</td>\n",
       "    </tr>\n",
       "    <tr>\n",
       "      <th>1066</th>\n",
       "      <td>34.0</td>\n",
       "      <td>a</td>\n",
       "      <td>fit</td>\n",
       "      <td>64.0</td>\n",
       "      <td>38.0</td>\n",
       "      <td>125602</td>\n",
       "      <td>just right</td>\n",
       "      <td>5.0</td>\n",
       "      <td>5</td>\n",
       "      <td>877917</td>\n",
       "      <td>28.0</td>\n",
       "    </tr>\n",
       "    <tr>\n",
       "      <th>1067</th>\n",
       "      <td>32.0</td>\n",
       "      <td>b</td>\n",
       "      <td>fit</td>\n",
       "      <td>64.0</td>\n",
       "      <td>40.0</td>\n",
       "      <td>126560</td>\n",
       "      <td>just right</td>\n",
       "      <td>5.0</td>\n",
       "      <td>4</td>\n",
       "      <td>138702</td>\n",
       "      <td>26.0</td>\n",
       "    </tr>\n",
       "    <tr>\n",
       "      <th>1068</th>\n",
       "      <td>36.0</td>\n",
       "      <td>c</td>\n",
       "      <td>fit</td>\n",
       "      <td>68.0</td>\n",
       "      <td>51.0</td>\n",
       "      <td>126560</td>\n",
       "      <td>slightly short</td>\n",
       "      <td>3.0</td>\n",
       "      <td>12</td>\n",
       "      <td>534811</td>\n",
       "      <td>44.0</td>\n",
       "    </tr>\n",
       "  </tbody>\n",
       "</table>\n",
       "</div>"
      ],
      "text/plain": [
       "      bra size cup size    fit  height  hips  item_id          length  \\\n",
       "0         34.0        d  small    66.0  38.0   123373      just right   \n",
       "1         36.0        b  small    62.0  30.0   123373      just right   \n",
       "2         32.0        b  small    67.0  35.0   123373   slightly long   \n",
       "5         36.0        c  small    64.0  34.0   123373      just right   \n",
       "6         32.0        b  large    63.0  36.0   123373      just right   \n",
       "239       34.0     dd/e    fit    65.0  41.0   124761      just right   \n",
       "299       34.0        c    fit    67.0  40.0   125442      just right   \n",
       "1066      34.0        a    fit    64.0  38.0   125602      just right   \n",
       "1067      32.0        b    fit    64.0  40.0   126560      just right   \n",
       "1068      36.0        c    fit    68.0  51.0   126560  slightly short   \n",
       "\n",
       "      quality  size  user_id  waist  \n",
       "0         5.0     7   991571   29.0  \n",
       "1         3.0    13   587883   31.0  \n",
       "2         2.0     7   395665   30.0  \n",
       "5         5.0    11   162012   28.0  \n",
       "6         1.0     5   114843   31.0  \n",
       "239       3.0     7   242643   31.0  \n",
       "299       5.0    11   575252   28.0  \n",
       "1066      5.0     5   877917   28.0  \n",
       "1067      5.0     4   138702   26.0  \n",
       "1068      3.0    12   534811   44.0  "
      ]
     },
     "execution_count": 17,
     "metadata": {},
     "output_type": "execute_result"
    }
   ],
   "source": [
    "x = list(zip(modcloth_waist.waist,modcloth_waist.hips))\n",
    "ratios = fxn.hip_waist_ratio(x)\n",
    "modcloth_waist.waist = pd.Series(i[0] for i in ratios)\n",
    "modcloth_waist.hips = pd.Series(i[1] for i in ratios)\n",
    "modcloth_waist.head(10)"
   ]
  },
  {
   "cell_type": "code",
   "execution_count": 18,
   "metadata": {},
   "outputs": [],
   "source": [
    "#filling null values\n",
    "modcloth_waist['hips'].fillna((modcloth_waist['hips'].mean()), inplace=True)\n",
    "modcloth_waist['waist'].fillna((modcloth_waist['waist'].mean()), inplace=True)"
   ]
  },
  {
   "cell_type": "code",
   "execution_count": 19,
   "metadata": {},
   "outputs": [],
   "source": [
    "modcloth_waist['hip_waist_ratio'] = modcloth_waist.waist/modcloth_waist.hips\n",
    "modcloth_sub['hip_waist_ratio'] = modcloth_sub.waist/modcloth_sub.hips"
   ]
  },
  {
   "cell_type": "code",
   "execution_count": 55,
   "metadata": {},
   "outputs": [
    {
     "data": {
      "image/png": "[encoded data removed]",
      "text/plain": [
       "<Figure size 1080x720 with 1 Axes>"
      ]
     },
     "metadata": {
      "needs_background": "light"
     },
     "output_type": "display_data"
    }
   ],
   "source": [
    "figure = plt.figure(figsize=(15, 10))\n",
    "\n",
    "axes = figure.add_subplot(1, 1, 1)\n",
    "axes.scatter(modcloth_waist['hip_waist_ratio'],modcloth_waist['quality'],marker=\"D\", color='firebrick', alpha = .4)\n",
    "#axes.hexbin(modcloth_waist['hip_waist_ratio'],modcloth_waist['quality'], gridsize=40, cmap=cm.Blues)\n",
    "axes.set_ylabel(\"Ratings\")\n",
    "axes.set_xlabel(\"Ratio\")\n",
    "axes.set_title(\"Scatter Plot of Ratings vs. Ratio\")\n",
    "plt.savefig('Rating_vs_Ratio1.png')\n",
    "\n",
    "\n",
    "plt.show()\n",
    "plt.close()"
   ]
  },
  {
   "cell_type": "code",
   "execution_count": 21,
   "metadata": {},
   "outputs": [],
   "source": [
    "high_risk = modcloth_waist[modcloth_waist.hip_waist_ratio>.85]\n",
    "mod_risk = modcloth_waist[(modcloth_waist.hip_waist_ratio<=.85)&(modcloth_waist.hip_waist_ratio>.8)]\n",
    "low_risk = modcloth_waist[modcloth_waist.hip_waist_ratio<=.8]"
   ]
  },
  {
   "cell_type": "code",
   "execution_count": 22,
   "metadata": {},
   "outputs": [
    {
     "name": "stdout",
     "output_type": "stream",
     "text": [
      "(25, 12)\n",
      "(2838, 12)\n",
      "(17, 12)\n"
     ]
    }
   ],
   "source": [
    "print(low_risk.shape)\n",
    "print(mod_risk.shape)\n",
    "print(high_risk.shape)"
   ]
  },
  {
   "cell_type": "code",
   "execution_count": 44,
   "metadata": {
    "scrolled": true
   },
   "outputs": [
    {
     "data": {
      "text/plain": [
       "NormaltestResult(statistic=12.707199274788426, pvalue=0.0017404707830261951)"
      ]
     },
     "execution_count": 44,
     "metadata": {},
     "output_type": "execute_result"
    }
   ],
   "source": [
    "stats.normaltest(low_risk.quality, nan_policy='omit')"
   ]
  },
  {
   "cell_type": "code",
   "execution_count": 45,
   "metadata": {},
   "outputs": [],
   "source": [
    "low_risk_boot = fxn.bootstrap(low_risk.quality,10000,10000)"
   ]
  },
  {
   "cell_type": "code",
   "execution_count": 46,
   "metadata": {},
   "outputs": [
    {
     "data": {
      "text/plain": [
       "Ttest_indResult(statistic=6.425088892509996, pvalue=1.5435492493512284e-10)"
      ]
     },
     "execution_count": 46,
     "metadata": {},
     "output_type": "execute_result"
    }
   ],
   "source": [
    "#T-test that rating of low and mod rsik people are equally high\n",
    "stats.ttest_ind(low_risk_boot,mod_risk.quality, axis = 0, equal_var = False, nan_policy = 'omit')"
   ]
  },
  {
   "cell_type": "code",
   "execution_count": 47,
   "metadata": {},
   "outputs": [
    {
     "data": {
      "text/plain": [
       "Ttest_indResult(statistic=1.3269638693248367, pvalue=0.2029968775643854)"
      ]
     },
     "execution_count": 47,
     "metadata": {},
     "output_type": "execute_result"
    }
   ],
   "source": [
    "#T-test that ratio affects high rating\n",
    "stats.ttest_ind(mod_risk.quality,high_risk.quality, axis = 0, equal_var = False, nan_policy = 'omit')"
   ]
  },
  {
   "cell_type": "code",
   "execution_count": 27,
   "metadata": {},
   "outputs": [],
   "source": [
    "#Classifiying the population risk\n",
    "high_risk_sub = modcloth_sub[modcloth_sub.hip_waist_ratio>.85]\n",
    "mod_risk_sub = modcloth_sub[(modcloth_sub.hip_waist_ratio<=.85)&(modcloth_sub.hip_waist_ratio>.8)]\n",
    "low_risk_sub = modcloth_sub[modcloth_sub.hip_waist_ratio<=.8]"
   ]
  },
  {
   "cell_type": "code",
   "execution_count": 28,
   "metadata": {},
   "outputs": [
    {
     "data": {
      "image/png": "[encoded data removed]",
      "text/plain": [
       "<Figure size 1080x720 with 1 Axes>"
      ]
     },
     "metadata": {
      "needs_background": "light"
     },
     "output_type": "display_data"
    }
   ],
   "source": [
    "#plotting rating vs hip-waist ratio\n",
    "figure = plt.figure(figsize=(15, 10))\n",
    "\n",
    "axes = figure.add_subplot(1, 1, 1)\n",
    "axes.scatter(   modcloth_sub['hip_waist_ratio'],modcloth_sub['quality'],marker=\"o\", color=\"darkslategray\", alpha = .4)\n",
    "#axes.hexbin(modcloth_sub['hip_waist_ratio'],modcloth_sub['quality'], gridsize=40, cmap=cm.Blues)\n",
    "axes.set_ylabel(\"Ratings\")\n",
    "axes.set_xlabel(\"Ratio\")\n",
    "axes.set_xticks(np.arange(.4,1.3,step = .05))\n",
    "axes.set_title(\"Hex Plot of Ratings vs. Ratio\")\n",
    "plt.savefig('Rating_vs_Ratio.png')\n",
    "\n",
    "\n",
    "plt.show()\n",
    "plt.close()"
   ]
  },
  {
   "cell_type": "code",
   "execution_count": 29,
   "metadata": {},
   "outputs": [
    {
     "data": {
      "text/plain": [
       "Ttest_indResult(statistic=-4.350934416650137, pvalue=1.434520321599019e-05)"
      ]
     },
     "execution_count": 29,
     "metadata": {},
     "output_type": "execute_result"
    }
   ],
   "source": [
    "#T-test that ratio affects high rating\n",
    "stats.ttest_ind(mod_risk_sub.quality,low_risk_sub.quality, axis = 0, equal_var = False, nan_policy = 'omit')"
   ]
  },
  {
   "cell_type": "code",
   "execution_count": 30,
   "metadata": {},
   "outputs": [
    {
     "data": {
      "text/html": [
       "<div>\n",
       "<style scoped>\n",
       "    .dataframe tbody tr th:only-of-type {\n",
       "        vertical-align: middle;\n",
       "    }\n",
       "\n",
       "    .dataframe tbody tr th {\n",
       "        vertical-align: top;\n",
       "    }\n",
       "\n",
       "    .dataframe thead th {\n",
       "        text-align: right;\n",
       "    }\n",
       "</style>\n",
       "<table border=\"1\" class=\"dataframe\">\n",
       "  <thead>\n",
       "    <tr style=\"text-align: right;\">\n",
       "      <th></th>\n",
       "      <th>bra size</th>\n",
       "      <th>height</th>\n",
       "      <th>hips</th>\n",
       "      <th>item_id</th>\n",
       "      <th>quality</th>\n",
       "      <th>size</th>\n",
       "      <th>user_id</th>\n",
       "      <th>waist</th>\n",
       "      <th>hip_waist_ratio</th>\n",
       "    </tr>\n",
       "  </thead>\n",
       "  <tbody>\n",
       "    <tr>\n",
       "      <th>count</th>\n",
       "      <td>31523.00000</td>\n",
       "      <td>33471.000000</td>\n",
       "      <td>22936.000000</td>\n",
       "      <td>33919.000000</td>\n",
       "      <td>33919.000000</td>\n",
       "      <td>33919.000000</td>\n",
       "      <td>33919.000000</td>\n",
       "      <td>22936.000000</td>\n",
       "      <td>22936.000000</td>\n",
       "    </tr>\n",
       "    <tr>\n",
       "      <th>mean</th>\n",
       "      <td>35.75935</td>\n",
       "      <td>65.075468</td>\n",
       "      <td>40.292335</td>\n",
       "      <td>461489.041157</td>\n",
       "      <td>4.569917</td>\n",
       "      <td>11.939945</td>\n",
       "      <td>499548.234028</td>\n",
       "      <td>34.141350</td>\n",
       "      <td>0.847524</td>\n",
       "    </tr>\n",
       "    <tr>\n",
       "      <th>std</th>\n",
       "      <td>3.16624</td>\n",
       "      <td>2.822904</td>\n",
       "      <td>5.828255</td>\n",
       "      <td>213281.285408</td>\n",
       "      <td>0.495095</td>\n",
       "      <td>7.954416</td>\n",
       "      <td>287253.726113</td>\n",
       "      <td>4.971169</td>\n",
       "      <td>0.021733</td>\n",
       "    </tr>\n",
       "    <tr>\n",
       "      <th>min</th>\n",
       "      <td>28.00000</td>\n",
       "      <td>36.000000</td>\n",
       "      <td>24.000000</td>\n",
       "      <td>123373.000000</td>\n",
       "      <td>4.000000</td>\n",
       "      <td>0.000000</td>\n",
       "      <td>6.000000</td>\n",
       "      <td>20.000000</td>\n",
       "      <td>0.526316</td>\n",
       "    </tr>\n",
       "    <tr>\n",
       "      <th>25%</th>\n",
       "      <td>34.00000</td>\n",
       "      <td>63.000000</td>\n",
       "      <td>36.000000</td>\n",
       "      <td>298256.000000</td>\n",
       "      <td>4.000000</td>\n",
       "      <td>8.000000</td>\n",
       "      <td>252224.000000</td>\n",
       "      <td>31.000000</td>\n",
       "      <td>0.842105</td>\n",
       "    </tr>\n",
       "    <tr>\n",
       "      <th>50%</th>\n",
       "      <td>36.00000</td>\n",
       "      <td>65.000000</td>\n",
       "      <td>39.000000</td>\n",
       "      <td>427567.000000</td>\n",
       "      <td>5.000000</td>\n",
       "      <td>10.000000</td>\n",
       "      <td>498979.000000</td>\n",
       "      <td>33.000000</td>\n",
       "      <td>0.850000</td>\n",
       "    </tr>\n",
       "    <tr>\n",
       "      <th>75%</th>\n",
       "      <td>38.00000</td>\n",
       "      <td>67.000000</td>\n",
       "      <td>43.000000</td>\n",
       "      <td>656172.000000</td>\n",
       "      <td>5.000000</td>\n",
       "      <td>15.000000</td>\n",
       "      <td>748031.000000</td>\n",
       "      <td>37.000000</td>\n",
       "      <td>0.857143</td>\n",
       "    </tr>\n",
       "    <tr>\n",
       "      <th>max</th>\n",
       "      <td>48.00000</td>\n",
       "      <td>95.000000</td>\n",
       "      <td>60.000000</td>\n",
       "      <td>807722.000000</td>\n",
       "      <td>5.000000</td>\n",
       "      <td>38.000000</td>\n",
       "      <td>999923.000000</td>\n",
       "      <td>51.000000</td>\n",
       "      <td>1.266667</td>\n",
       "    </tr>\n",
       "  </tbody>\n",
       "</table>\n",
       "</div>"
      ],
      "text/plain": [
       "          bra size        height          hips        item_id       quality  \\\n",
       "count  31523.00000  33471.000000  22936.000000   33919.000000  33919.000000   \n",
       "mean      35.75935     65.075468     40.292335  461489.041157      4.569917   \n",
       "std        3.16624      2.822904      5.828255  213281.285408      0.495095   \n",
       "min       28.00000     36.000000     24.000000  123373.000000      4.000000   \n",
       "25%       34.00000     63.000000     36.000000  298256.000000      4.000000   \n",
       "50%       36.00000     65.000000     39.000000  427567.000000      5.000000   \n",
       "75%       38.00000     67.000000     43.000000  656172.000000      5.000000   \n",
       "max       48.00000     95.000000     60.000000  807722.000000      5.000000   \n",
       "\n",
       "               size        user_id         waist  hip_waist_ratio  \n",
       "count  33919.000000   33919.000000  22936.000000     22936.000000  \n",
       "mean      11.939945  499548.234028     34.141350         0.847524  \n",
       "std        7.954416  287253.726113      4.971169         0.021733  \n",
       "min        0.000000       6.000000     20.000000         0.526316  \n",
       "25%        8.000000  252224.000000     31.000000         0.842105  \n",
       "50%       10.000000  498979.000000     33.000000         0.850000  \n",
       "75%       15.000000  748031.000000     37.000000         0.857143  \n",
       "max       38.000000  999923.000000     51.000000         1.266667  "
      ]
     },
     "execution_count": 30,
     "metadata": {},
     "output_type": "execute_result"
    }
   ],
   "source": [
    "top_ratings = modcloth_sub[(modcloth_sub.length == 'just right')&(modcloth_sub.quality >=4.0)\n",
    "                          &(modcloth_sub.fit == 'fit')]\n",
    "top_ratings.describe()"
   ]
  },
  {
   "cell_type": "code",
   "execution_count": 31,
   "metadata": {
    "scrolled": true
   },
   "outputs": [
    {
     "data": {
      "text/html": [
       "<div>\n",
       "<style scoped>\n",
       "    .dataframe tbody tr th:only-of-type {\n",
       "        vertical-align: middle;\n",
       "    }\n",
       "\n",
       "    .dataframe tbody tr th {\n",
       "        vertical-align: top;\n",
       "    }\n",
       "\n",
       "    .dataframe thead th {\n",
       "        text-align: right;\n",
       "    }\n",
       "</style>\n",
       "<table border=\"1\" class=\"dataframe\">\n",
       "  <thead>\n",
       "    <tr style=\"text-align: right;\">\n",
       "      <th></th>\n",
       "      <th>bra size</th>\n",
       "      <th>height</th>\n",
       "      <th>hips</th>\n",
       "      <th>item_id</th>\n",
       "      <th>quality</th>\n",
       "      <th>size</th>\n",
       "      <th>user_id</th>\n",
       "      <th>waist</th>\n",
       "      <th>hip_waist_ratio</th>\n",
       "    </tr>\n",
       "  </thead>\n",
       "  <tbody>\n",
       "    <tr>\n",
       "      <th>count</th>\n",
       "      <td>76070.000000</td>\n",
       "      <td>80933.000000</td>\n",
       "      <td>55550.000000</td>\n",
       "      <td>82036.000000</td>\n",
       "      <td>81968.000000</td>\n",
       "      <td>82036.000000</td>\n",
       "      <td>82036.000000</td>\n",
       "      <td>55550.000000</td>\n",
       "      <td>55550.000000</td>\n",
       "    </tr>\n",
       "    <tr>\n",
       "      <th>mean</th>\n",
       "      <td>35.971079</td>\n",
       "      <td>65.142562</td>\n",
       "      <td>40.316436</td>\n",
       "      <td>469510.119204</td>\n",
       "      <td>3.949126</td>\n",
       "      <td>12.657809</td>\n",
       "      <td>498788.808755</td>\n",
       "      <td>34.162772</td>\n",
       "      <td>0.847535</td>\n",
       "    </tr>\n",
       "    <tr>\n",
       "      <th>std</th>\n",
       "      <td>3.223979</td>\n",
       "      <td>2.849230</td>\n",
       "      <td>5.848532</td>\n",
       "      <td>214136.368217</td>\n",
       "      <td>0.992892</td>\n",
       "      <td>8.269573</td>\n",
       "      <td>286293.903277</td>\n",
       "      <td>4.992317</td>\n",
       "      <td>0.021790</td>\n",
       "    </tr>\n",
       "    <tr>\n",
       "      <th>min</th>\n",
       "      <td>28.000000</td>\n",
       "      <td>36.000000</td>\n",
       "      <td>24.000000</td>\n",
       "      <td>123373.000000</td>\n",
       "      <td>1.000000</td>\n",
       "      <td>0.000000</td>\n",
       "      <td>6.000000</td>\n",
       "      <td>20.000000</td>\n",
       "      <td>0.434783</td>\n",
       "    </tr>\n",
       "    <tr>\n",
       "      <th>25%</th>\n",
       "      <td>34.000000</td>\n",
       "      <td>63.000000</td>\n",
       "      <td>36.000000</td>\n",
       "      <td>314980.000000</td>\n",
       "      <td>3.000000</td>\n",
       "      <td>8.000000</td>\n",
       "      <td>252931.750000</td>\n",
       "      <td>31.000000</td>\n",
       "      <td>0.843137</td>\n",
       "    </tr>\n",
       "    <tr>\n",
       "      <th>50%</th>\n",
       "      <td>36.000000</td>\n",
       "      <td>65.000000</td>\n",
       "      <td>39.000000</td>\n",
       "      <td>454030.000000</td>\n",
       "      <td>4.000000</td>\n",
       "      <td>12.000000</td>\n",
       "      <td>497571.000000</td>\n",
       "      <td>33.000000</td>\n",
       "      <td>0.850000</td>\n",
       "    </tr>\n",
       "    <tr>\n",
       "      <th>75%</th>\n",
       "      <td>38.000000</td>\n",
       "      <td>67.000000</td>\n",
       "      <td>43.000000</td>\n",
       "      <td>658440.000000</td>\n",
       "      <td>5.000000</td>\n",
       "      <td>15.000000</td>\n",
       "      <td>744574.000000</td>\n",
       "      <td>37.000000</td>\n",
       "      <td>0.857143</td>\n",
       "    </tr>\n",
       "    <tr>\n",
       "      <th>max</th>\n",
       "      <td>48.000000</td>\n",
       "      <td>95.000000</td>\n",
       "      <td>60.000000</td>\n",
       "      <td>807722.000000</td>\n",
       "      <td>5.000000</td>\n",
       "      <td>38.000000</td>\n",
       "      <td>999972.000000</td>\n",
       "      <td>51.000000</td>\n",
       "      <td>1.266667</td>\n",
       "    </tr>\n",
       "  </tbody>\n",
       "</table>\n",
       "</div>"
      ],
      "text/plain": [
       "           bra size        height          hips        item_id       quality  \\\n",
       "count  76070.000000  80933.000000  55550.000000   82036.000000  81968.000000   \n",
       "mean      35.971079     65.142562     40.316436  469510.119204      3.949126   \n",
       "std        3.223979      2.849230      5.848532  214136.368217      0.992892   \n",
       "min       28.000000     36.000000     24.000000  123373.000000      1.000000   \n",
       "25%       34.000000     63.000000     36.000000  314980.000000      3.000000   \n",
       "50%       36.000000     65.000000     39.000000  454030.000000      4.000000   \n",
       "75%       38.000000     67.000000     43.000000  658440.000000      5.000000   \n",
       "max       48.000000     95.000000     60.000000  807722.000000      5.000000   \n",
       "\n",
       "               size        user_id         waist  hip_waist_ratio  \n",
       "count  82036.000000   82036.000000  55550.000000     55550.000000  \n",
       "mean      12.657809  498788.808755     34.162772         0.847535  \n",
       "std        8.269573  286293.903277      4.992317         0.021790  \n",
       "min        0.000000       6.000000     20.000000         0.434783  \n",
       "25%        8.000000  252931.750000     31.000000         0.843137  \n",
       "50%       12.000000  497571.000000     33.000000         0.850000  \n",
       "75%       15.000000  744574.000000     37.000000         0.857143  \n",
       "max       38.000000  999972.000000     51.000000         1.266667  "
      ]
     },
     "execution_count": 31,
     "metadata": {},
     "output_type": "execute_result"
    }
   ],
   "source": [
    "modcloth_sub.describe()"
   ]
  },
  {
   "cell_type": "code",
   "execution_count": 32,
   "metadata": {},
   "outputs": [
    {
     "data": {
      "image/png": "[encoded data removed]",
      "text/plain": [
       "<Figure size 864x864 with 2 Axes>"
      ]
     },
     "metadata": {
      "needs_background": "light"
     },
     "output_type": "display_data"
    }
   ],
   "source": [
    "#Initial Height Plot\n",
    "figure = plt.figure(figsize=(12, 12))\n",
    "\n",
    "axes = figure.add_subplot(2, 1, 1)\n",
    "axes.hist(modcloth_sub['height'], color=\"darkslategray\",bins=35)\n",
    "axes.set_title(\"Distribution of Height of All Raters/Shoppers\")\n",
    "axes.set_xlabel(\"Height\")\n",
    "\n",
    "\n",
    "axes = figure.add_subplot(2, 1, 2)\n",
    "axes.hist(top_ratings['height'], color=\"darkslategray\",bins=35)\n",
    "axes.set_title(\"Distribution of Height for Top Raters\")\n",
    "axes.set_xlabel(\"Height\")\n",
    "plt.savefig('Height_Comparison1.png')\n",
    "plt.show()\n",
    "\n",
    "plt.close()\n",
    "\n"
   ]
  },
  {
   "cell_type": "code",
   "execution_count": 33,
   "metadata": {},
   "outputs": [],
   "source": [
    "#filling null values\n",
    "top_ratings.height.fillna((top_ratings.height.mean()), inplace=True)\n",
    "modcloth_sub.height.fillna((top_ratings.height.mean()), inplace=True)"
   ]
  },
  {
   "cell_type": "code",
   "execution_count": 34,
   "metadata": {},
   "outputs": [],
   "source": [
    "#bootstrapping heights\n",
    "top_height = fxn.bootstrap(top_ratings.height,10000,10000)\n",
    "pop_height = fxn.bootstrap(modcloth_sub.height,10000,10000)"
   ]
  },
  {
   "cell_type": "code",
   "execution_count": 35,
   "metadata": {},
   "outputs": [
    {
     "data": {
      "image/png": "[encoded data removed]",
      "text/plain": [
       "<Figure size 864x864 with 2 Axes>"
      ]
     },
     "metadata": {
      "needs_background": "light"
     },
     "output_type": "display_data"
    }
   ],
   "source": [
    "#Plotting bootstrapped heights\n",
    "figure = plt.figure(figsize=(12, 12))\n",
    "\n",
    "\n",
    "\n",
    "axes = figure.add_subplot(2, 1, 1)\n",
    "axes.hist(pop_height, color=\"darkslategray\",bins=35)\n",
    "axes.set_title(\"Distribution of Height of All Raters/Shoppers\")\n",
    "axes.set_xlabel(\"Height\")\n",
    "\n",
    "\n",
    "axes = figure.add_subplot(2, 1, 2)\n",
    "axes.hist(top_height, color=\"darkslategray\",bins=35)\n",
    "axes.set_title(\"Distribution of Height for Top Raters\")\n",
    "axes.set_xlabel(\"Height\")\n",
    "plt.savefig('Height_Comparison.png')\n",
    "plt.show()\n",
    "\n",
    "plt.close()\n",
    "\n"
   ]
  },
  {
   "cell_type": "code",
   "execution_count": 36,
   "metadata": {},
   "outputs": [
    {
     "data": {
      "text/plain": [
       "65.07484342690688"
      ]
     },
     "execution_count": 36,
     "metadata": {},
     "output_type": "execute_result"
    }
   ],
   "source": [
    "top_sample = np.random.choice(top_height, 100, replace = False)\n",
    "np.mean(top_sample)"
   ]
  },
  {
   "cell_type": "code",
   "execution_count": 37,
   "metadata": {},
   "outputs": [
    {
     "data": {
      "text/plain": [
       "65.14294485937079"
      ]
     },
     "execution_count": 37,
     "metadata": {},
     "output_type": "execute_result"
    }
   ],
   "source": [
    "pop_sample = np.random.choice(pop_height, 100, replace = False)\n",
    "np.mean(pop_sample)"
   ]
  },
  {
   "cell_type": "code",
   "execution_count": 38,
   "metadata": {},
   "outputs": [
    {
     "data": {
      "text/plain": [
       "Ttest_indResult(statistic=-18.002054135216817, pvalue=1.5322626862344204e-43)"
      ]
     },
     "execution_count": 38,
     "metadata": {},
     "output_type": "execute_result"
    }
   ],
   "source": [
    "#T-test that the mean height is the same as the total population\n",
    "stats.ttest_ind(top_sample,pop_sample, axis = 0, equal_var = False, nan_policy = 'omit')"
   ]
  },
  {
   "cell_type": "code",
   "execution_count": 39,
   "metadata": {},
   "outputs": [],
   "source": [
    "#filling null values\n",
    "top_ratings.hip_waist_ratio.fillna((top_ratings.hip_waist_ratio.mean()), inplace=True)\n",
    "modcloth_sub.hip_waist_ratio.fillna((top_ratings.hip_waist_ratio.mean()), inplace=True)"
   ]
  },
  {
   "cell_type": "code",
   "execution_count": 40,
   "metadata": {},
   "outputs": [],
   "source": [
    "#bootstrapping ratios\n",
    "pop_ratio = fxn.bootstrap(modcloth_sub.hip_waist_ratio,10000,10000)\n",
    "top_ratio = fxn.bootstrap(top_ratings.hip_waist_ratio,10000,10000)"
   ]
  },
  {
   "cell_type": "code",
   "execution_count": 41,
   "metadata": {},
   "outputs": [
    {
     "data": {
      "image/png": "[encoded data removed]",
      "text/plain": [
       "<Figure size 864x864 with 2 Axes>"
      ]
     },
     "metadata": {
      "needs_background": "light"
     },
     "output_type": "display_data"
    }
   ],
   "source": [
    "#Plotting bootstrapped heights\n",
    "figure = plt.figure(figsize=(12, 12))\n",
    "\n",
    "\n",
    "\n",
    "axes = figure.add_subplot(2, 1, 1)\n",
    "axes.hist(pop_ratio, color=\"darkslategray\",bins=35)\n",
    "axes.set_title(\"Distribution of Hip-Waist Ratio of All Raters/Shoppers (Bootstrapped)\")\n",
    "axes.set_xlabel(\"Ratio\")\n",
    "\n",
    "\n",
    "axes = figure.add_subplot(2, 1, 2)\n",
    "axes.hist(top_ratio, color=\"darkslategray\",bins=35)\n",
    "axes.set_title(\"Distribution of Hip_waist Ratio for Top Raters (Bootstrapped)\")\n",
    "axes.set_xlabel(\"Ratio\")\n",
    "plt.show()\n",
    "\n",
    "plt.close()\n",
    "\n"
   ]
  },
  {
   "cell_type": "code",
   "execution_count": 42,
   "metadata": {},
   "outputs": [
    {
     "data": {
      "text/plain": [
       "Ttest_indResult(statistic=1.5623868205659195, pvalue=0.11821271615282909)"
      ]
     },
     "execution_count": 42,
     "metadata": {},
     "output_type": "execute_result"
    }
   ],
   "source": [
    "#T-test that the mean hip to waist ratio is the same as the total population\n",
    "stats.ttest_ind(pop_ratio,top_ratio, axis = 0, equal_var = False, nan_policy = 'omit')"
   ]
  }
 ],
 "metadata": {
  "kernelspec": {
   "display_name": "Python 3",
   "language": "python",
   "name": "python3"
  },
  "language_info": {
   "codemirror_mode": {
    "name": "ipython",
    "version": 3
   },
   "file_extension": ".py",
   "mimetype": "text/x-python",
   "name": "python",
   "nbconvert_exporter": "python",
   "pygments_lexer": "ipython3",
   "version": "3.7.3"
  }
 },
 "nbformat": 4,
 "nbformat_minor": 2
}
